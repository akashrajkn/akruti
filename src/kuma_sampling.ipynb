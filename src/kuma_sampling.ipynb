{
 "cells": [
  {
   "cell_type": "code",
   "execution_count": 1,
   "metadata": {},
   "outputs": [],
   "source": [
    "import os\n",
    "import pickle\n",
    "import random\n",
    "\n",
    "import torch\n",
    "import torch.nn as nn\n",
    "import torch.nn.functional as F\n",
    "import torch.optim as optim\n",
    "import numpy as np\n",
    "import matplotlib.pyplot as plt\n",
    "\n",
    "from torch.utils.data import DataLoader\n",
    "\n",
    "from kumaraswamy import Kumaraswamy\n",
    "from hard_kumaraswamy import StretchedAndRectifiedDistribution as HardKumaraswamy"
   ]
  },
  {
   "cell_type": "code",
   "execution_count": 2,
   "metadata": {},
   "outputs": [
    {
     "name": "stdout",
     "output_type": "stream",
     "text": [
      "tensor([1.0000])\n",
      "tensor([nan])\n",
      "tensor([nan])\n",
      "tensor([-14.3855])\n",
      "tensor([1.0000])\n"
     ]
    }
   ],
   "source": [
    "a = torch.tensor([0.0708])\n",
    "b = torch.tensor([3.5888])\n",
    "\n",
    "kuma = Kumaraswamy(a, b)\n",
    "\n",
    "m = HardKumaraswamy(kuma)\n",
    "\n",
    "print(m.log_prob(torch.tensor([.99])))\n",
    "\n",
    "print(m.stretched.cdf(torch.tensor([1.])))"
   ]
  },
  {
   "cell_type": "code",
   "execution_count": 55,
   "metadata": {},
   "outputs": [
    {
     "name": "stdout",
     "output_type": "stream",
     "text": [
      "0.99999\n",
      "tensor([1.0000])\n",
      "-----\n",
      "1e-05\n",
      "tensor([1.0000e-05])\n"
     ]
    }
   ],
   "source": [
    "EPS = 1e-5\n",
    "\n",
    "a = torch.tensor([1.])\n",
    "a = torch.clamp(a, max=1.-EPS)\n",
    "\n",
    "print(1. - EPS)\n",
    "print(a)\n",
    "\n",
    "print(\"-----\")\n",
    "\n",
    "\n",
    "b = torch.tensor([0.])\n",
    "b = torch.clamp(b, min=EPS)\n",
    "\n",
    "\n",
    "print(EPS)\n",
    "print(b)"
   ]
  },
  {
   "cell_type": "code",
   "execution_count": 10,
   "metadata": {},
   "outputs": [
    {
     "name": "stdout",
     "output_type": "stream",
     "text": [
      "tensor([-1.0014e-05])\n",
      "hello\n",
      "\n"
     ]
    }
   ],
   "source": [
    "val = -m.stretched.cdf(torch.tensor([1.])) + 1 + 1e-5\n",
    "# print(m.stretched.cdf(torch.tensor([1.])))\n",
    "# print(1e-5)\n",
    "\n",
    "print( 1. - m.stretched.cdf(torch.tensor([1.])))\n",
    "\n",
    "if m.stretched.cdf(torch.tensor([1.])) > 1.:\n",
    "    print(\"hello\")\n",
    "\n",
    "print( )\n",
    "\n",
    "# print(val)\n"
   ]
  },
  {
   "cell_type": "code",
   "execution_count": null,
   "metadata": {},
   "outputs": [],
   "source": []
  },
  {
   "cell_type": "code",
   "execution_count": null,
   "metadata": {},
   "outputs": [],
   "source": [
    "# a = torch.rand(3,2)\n",
    "# b = torch.rand(3,2)\n",
    "\n",
    "a = torch.tensor([0.139])\n",
    "b = torch.tensor([0.286])\n",
    "\n",
    "# kuma_prior = Kumaraswamy(torch.zeros_like(a), torch.zeros_like(b))\n",
    "kuma_prior = Kumaraswamy(a, b)\n",
    "kuma_post  = Kumaraswamy(a, b)\n",
    "\n",
    "print(kuma_prior.sample())\n",
    "# print(kuma_post.sample())\n",
    "\n",
    "# print(kuma_prior.log_prob(kuma_prior.sample()))\n",
    "\n",
    "kl_divs = []\n",
    "\n",
    "for i in range(100):\n",
    "    kl_div = torch.distributions.kl.kl_divergence(kuma_post, kuma_prior)\n",
    "    kl_divs.append(kl_div)\n",
    "\n",
    "kl_divs = torch.tensor(kl_divs)\n",
    "print('KL Divergence: {}'.format(torch.mean(kl_div)))"
   ]
  },
  {
   "cell_type": "code",
   "execution_count": null,
   "metadata": {},
   "outputs": [],
   "source": [
    "# a = torch.tensor([.0005])\n",
    "# b = torch.tensor([.225])\n",
    "\n",
    "a = torch.tensor([7.0860e-02])\n",
    "b = torch.tensor([3.5888e+00])\n",
    "\n",
    "kuma = Kumaraswamy(a, b)\n",
    "\n",
    "m = HardKumaraswamy(kuma)\n",
    "\n",
    "print(m.log_prob(torch.tensor([.99])))\n",
    "\n",
    "samples = [m.sample() for _ in range(1000)]\n",
    "\n",
    "n, bins, _ = plt.hist(samples, density=False, bins=50, weights=np.ones(len(samples)) / len(samples))\n",
    "plt.grid()\n",
    "plt.show()"
   ]
  },
  {
   "cell_type": "code",
   "execution_count": null,
   "metadata": {},
   "outputs": [],
   "source": [
    "# a = torch.tensor([0.139])\n",
    "# b = torch.tensor([0.286])\n",
    "\n",
    "a = torch.tensor([.0005])\n",
    "b = torch.tensor([.225])\n",
    "\n",
    "kuma   = Kumaraswamy(a, b)\n",
    "h_kuma = HardKumaraswamy(kuma)\n",
    "start  = 0.\n",
    "\n",
    "print(' val  -log_prob    prob')\n",
    "\n",
    "for i in range(11):\n",
    "    l_prob = h_kuma.log_prob(torch.tensor(start))\n",
    "    print('{:.2f}    {:.4f}    {:.4f}'.format(start, -l_prob.item(), torch.exp(l_prob).item()))\n",
    "    start += 0.1"
   ]
  },
  {
   "cell_type": "code",
   "execution_count": null,
   "metadata": {},
   "outputs": [],
   "source": []
  },
  {
   "cell_type": "code",
   "execution_count": null,
   "metadata": {},
   "outputs": [],
   "source": [
    "norm_a = torch.distributions.Normal(loc=0.0, scale=1.0)"
   ]
  },
  {
   "cell_type": "code",
   "execution_count": null,
   "metadata": {},
   "outputs": [],
   "source": [
    "torch.exp(norm_a.log_prob(torch.tensor(0.0)))"
   ]
  },
  {
   "cell_type": "code",
   "execution_count": null,
   "metadata": {},
   "outputs": [],
   "source": [
    "a = torch.tensor([.0])\n",
    "b = torch.tensor([.0])\n",
    "\n",
    "kuma = Kumaraswamy(a, b)\n",
    "\n",
    "m = HardKumaraswamy(kuma)\n",
    "samples = [m.sample() for _ in range(1000)]\n",
    "\n",
    "n, bins, _ = plt.hist(samples, density=False, bins=30, weights=np.ones(len(samples)) / len(samples))"
   ]
  },
  {
   "cell_type": "code",
   "execution_count": null,
   "metadata": {},
   "outputs": [],
   "source": []
  },
  {
   "cell_type": "code",
   "execution_count": null,
   "metadata": {},
   "outputs": [],
   "source": []
  },
  {
   "cell_type": "code",
   "execution_count": null,
   "metadata": {},
   "outputs": [],
   "source": []
  },
  {
   "cell_type": "code",
   "execution_count": null,
   "metadata": {},
   "outputs": [],
   "source": []
  },
  {
   "cell_type": "code",
   "execution_count": null,
   "metadata": {},
   "outputs": [],
   "source": []
  },
  {
   "cell_type": "code",
   "execution_count": null,
   "metadata": {},
   "outputs": [],
   "source": []
  },
  {
   "cell_type": "code",
   "execution_count": null,
   "metadata": {},
   "outputs": [],
   "source": []
  }
 ],
 "metadata": {
  "kernelspec": {
   "display_name": "Python 3",
   "language": "python",
   "name": "python3"
  },
  "language_info": {
   "codemirror_mode": {
    "name": "ipython",
    "version": 3
   },
   "file_extension": ".py",
   "mimetype": "text/x-python",
   "name": "python",
   "nbconvert_exporter": "python",
   "pygments_lexer": "ipython3",
   "version": "3.7.3"
  }
 },
 "nbformat": 4,
 "nbformat_minor": 2
}
