{
 "cells": [
  {
   "cell_type": "code",
   "execution_count": 1,
   "metadata": {},
   "outputs": [],
   "source": [
    "import os\n",
    "import pickle\n",
    "import random\n",
    "\n",
    "import torch\n",
    "import torch.nn as nn\n",
    "import torch.nn.functional as F\n",
    "import torch.optim as optim\n",
    "import numpy as np\n",
    "import matplotlib.pyplot as plt\n",
    "\n",
    "from torch.utils.data import DataLoader\n",
    "\n",
    "from kumaraswamy import Kumaraswamy\n",
    "from hard_kumaraswamy import StretchedAndRectifiedDistribution as HardKumaraswamy"
   ]
  },
  {
   "cell_type": "code",
   "execution_count": 2,
   "metadata": {},
   "outputs": [
    {
     "name": "stdout",
     "output_type": "stream",
     "text": [
      "tensor([0.4547])\n",
      "KL Divergence: tensor([0.1993])\n"
     ]
    }
   ],
   "source": [
    "# a = torch.rand(3,2)\n",
    "# b = torch.rand(3,2)\n",
    "\n",
    "a = torch.tensor([0.5])\n",
    "b = torch.tensor([0.5])\n",
    "\n",
    "# kuma_prior = Kumaraswamy(torch.zeros_like(a), torch.zeros_like(b))\n",
    "kuma_prior = Kumaraswamy(a, b)\n",
    "kuma_post  = Kumaraswamy(a, b)\n",
    "\n",
    "print(kuma_prior.sample())\n",
    "# print(kuma_post.sample())\n",
    "\n",
    "# print(kuma_prior.log_prob(kuma_prior.sample()))\n",
    "\n",
    "kl_div = torch.distributions.kl.kl_divergence(kuma_post, kuma_prior)\n",
    "print('KL Divergence: {}'.format(kl_div))\n",
    "# print(kl_div)"
   ]
  },
  {
   "cell_type": "code",
   "execution_count": 3,
   "metadata": {},
   "outputs": [
    {
     "name": "stdout",
     "output_type": "stream",
     "text": [
      "tensor([0.])\n",
      "tensor([-1.2074])\n"
     ]
    }
   ],
   "source": [
    "loc = torch.rand(1)\n",
    "var = torch.rand(1)\n",
    "\n",
    "norm_a = torch.distributions.normal.Normal(loc, var)\n",
    "norm_b = torch.distributions.normal.Normal(loc, var)\n",
    "\n",
    "kl_div = torch.distributions.kl.kl_divergence(norm_a, norm_b)\n",
    "\n",
    "print(kl_div)\n",
    "print(norm_a.log_prob(norm_a.sample()))\n"
   ]
  },
  {
   "cell_type": "code",
   "execution_count": 5,
   "metadata": {},
   "outputs": [
    {
     "data": {
      "image/png": "[encoded data removed]",
      "text/plain": [
       "<Figure size 432x288 with 1 Axes>"
      ]
     },
     "metadata": {
      "needs_background": "light"
     },
     "output_type": "display_data"
    }
   ],
   "source": [
    "a = torch.tensor([.139])\n",
    "b = torch.tensor([.286])\n",
    "\n",
    "kuma = Kumaraswamy(a, b)\n",
    "\n",
    "m = HardKumaraswamy(kuma)\n",
    "samples = [m.sample() for _ in range(1000)]\n",
    "\n",
    "n, bins, _ = plt.hist(samples, density=False, bins=20, weights=np.ones(len(samples)) / len(samples))"
   ]
  },
  {
   "cell_type": "code",
   "execution_count": 69,
   "metadata": {},
   "outputs": [
    {
     "data": {
      "image/png": "[encoded data removed]",
      "text/plain": [
       "<Figure size 432x288 with 1 Axes>"
      ]
     },
     "metadata": {
      "needs_background": "light"
     },
     "output_type": "display_data"
    }
   ],
   "source": [
    "a = torch.tensor([.0])\n",
    "b = torch.tensor([.0])\n",
    "\n",
    "kuma = Kumaraswamy(a, b)\n",
    "\n",
    "m = HardKumaraswamy(kuma)\n",
    "samples = [m.sample() for _ in range(1000)]\n",
    "\n",
    "n, bins, _ = plt.hist(samples, density=False, bins=10, weights=np.ones(len(samples)) / len(samples))"
   ]
  },
  {
   "cell_type": "code",
   "execution_count": null,
   "metadata": {},
   "outputs": [],
   "source": []
  },
  {
   "cell_type": "code",
   "execution_count": null,
   "metadata": {},
   "outputs": [],
   "source": []
  },
  {
   "cell_type": "code",
   "execution_count": null,
   "metadata": {},
   "outputs": [],
   "source": []
  },
  {
   "cell_type": "code",
   "execution_count": null,
   "metadata": {},
   "outputs": [],
   "source": []
  },
  {
   "cell_type": "code",
   "execution_count": null,
   "metadata": {},
   "outputs": [],
   "source": []
  },
  {
   "cell_type": "code",
   "execution_count": null,
   "metadata": {},
   "outputs": [],
   "source": []
  },
  {
   "cell_type": "code",
   "execution_count": null,
   "metadata": {},
   "outputs": [],
   "source": []
  }
 ],
 "metadata": {
  "kernelspec": {
   "display_name": "Python 3",
   "language": "python",
   "name": "python3"
  },
  "language_info": {
   "codemirror_mode": {
    "name": "ipython",
    "version": 3
   },
   "file_extension": ".py",
   "mimetype": "text/x-python",
   "name": "python",
   "nbconvert_exporter": "python",
   "pygments_lexer": "ipython3",
   "version": "3.7.2"
  }
 },
 "nbformat": 4,
 "nbformat_minor": 2
}
