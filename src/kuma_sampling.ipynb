{
 "cells": [
  {
   "cell_type": "code",
   "execution_count": 1,
   "metadata": {},
   "outputs": [],
   "source": [
    "import os\n",
    "import pickle\n",
    "import random\n",
    "\n",
    "import torch\n",
    "import torch.nn as nn\n",
    "import torch.nn.functional as F\n",
    "import torch.optim as optim\n",
    "import numpy as np\n",
    "import matplotlib.pyplot as plt\n",
    "\n",
    "from torch.utils.data import DataLoader\n",
    "\n",
    "from kumaraswamy import Kumaraswamy\n",
    "from concrete import BinaryConcrete\n",
    "from uniform import CustomUniform\n",
    "from hard_kumaraswamy import StretchedAndRectifiedDistribution"
   ]
  },
  {
   "cell_type": "code",
   "execution_count": 2,
   "metadata": {},
   "outputs": [
    {
     "name": "stdout",
     "output_type": "stream",
     "text": [
      "tensor([0.6926])\n",
      "KL Divergence: -0.7312003374099731\n"
     ]
    }
   ],
   "source": [
    "# a = torch.rand(3,2)\n",
    "# b = torch.rand(3,2)\n",
    "\n",
    "a = torch.tensor([0.139])\n",
    "b = torch.tensor([0.286])\n",
    "\n",
    "# kuma_prior = Kumaraswamy(torch.zeros_like(a), torch.zeros_like(b))\n",
    "kuma_prior = Kumaraswamy(a, b)\n",
    "kuma_post  = Kumaraswamy(a, b)\n",
    "\n",
    "print(kuma_prior.sample())\n",
    "# print(kuma_post.sample())\n",
    "\n",
    "# print(kuma_prior.log_prob(kuma_prior.sample()))\n",
    "\n",
    "kl_divs = []\n",
    "\n",
    "for i in range(100):\n",
    "    kl_div = torch.distributions.kl.kl_divergence(kuma_post, kuma_prior)\n",
    "    kl_divs.append(kl_div)\n",
    "\n",
    "kl_divs = torch.tensor(kl_divs)\n",
    "print('KL Divergence: {}'.format(torch.mean(kl_div)))"
   ]
  },
  {
   "cell_type": "code",
   "execution_count": 3,
   "metadata": {},
   "outputs": [
    {
     "data": {
      "image/png": "[encoded data removed]",
      "text/plain": [
       "<Figure size 432x288 with 1 Axes>"
      ]
     },
     "metadata": {
      "needs_background": "light"
     },
     "output_type": "display_data"
    }
   ],
   "source": [
    "a = torch.tensor([.0005])\n",
    "b = torch.tensor([.225])\n",
    "\n",
    "kuma = Kumaraswamy(a, b)\n",
    "\n",
    "h_kuma = StretchedAndRectifiedDistribution(kuma)\n",
    "samples = [h_kuma.sample() for _ in range(1000)]\n",
    "\n",
    "n, bins, _ = plt.hist(samples, density=False, bins=50, weights=np.ones(len(samples)) / len(samples))\n",
    "plt.grid()\n",
    "plt.show()"
   ]
  },
  {
   "cell_type": "code",
   "execution_count": 4,
   "metadata": {},
   "outputs": [
    {
     "name": "stdout",
     "output_type": "stream",
     "text": [
      " val  -log_prob    prob\n",
      "0.00    0.2514    0.7777\n",
      "0.10    2.0338    0.1308\n",
      "0.20    2.2427    0.1062\n",
      "0.30    2.3529    0.0951\n",
      "0.40    2.4036    0.0904\n",
      "0.50    2.4095    0.0899\n",
      "0.60    2.3748    0.0930\n",
      "0.70    2.2967    0.1006\n",
      "0.80    2.1632    0.1150\n",
      "0.90    1.9436    0.1432\n",
      "1.00    2.2131    0.1094\n"
     ]
    }
   ],
   "source": [
    "# a = torch.tensor([0.139])\n",
    "# b = torch.tensor([0.286])\n",
    "\n",
    "a = torch.tensor([.0005])\n",
    "b = torch.tensor([.225])\n",
    "\n",
    "kuma   = Kumaraswamy(a, b)\n",
    "h_kuma = StretchedAndRectifiedDistribution(kuma)\n",
    "start  = 0.\n",
    "\n",
    "print(' val  -log_prob    prob')\n",
    "\n",
    "for i in range(11):\n",
    "    l_prob = h_kuma.log_prob(torch.tensor(start))\n",
    "    print('{:.2f}    {:.4f}    {:.4f}'.format(start, -l_prob.item(), torch.exp(l_prob).item()))\n",
    "    start += 0.1"
   ]
  },
  {
   "cell_type": "code",
   "execution_count": 5,
   "metadata": {},
   "outputs": [
    {
     "data": {
      "image/png": "[encoded data removed]",
      "text/plain": [
       "<Figure size 432x288 with 1 Axes>"
      ]
     },
     "metadata": {
      "needs_background": "light"
     },
     "output_type": "display_data"
    }
   ],
   "source": [
    "a = torch.tensor([.0])\n",
    "b = torch.tensor([.0])\n",
    "\n",
    "kuma = Kumaraswamy(a, b)\n",
    "\n",
    "m = StretchedAndRectifiedDistribution(kuma)\n",
    "samples = [m.sample() for _ in range(1000)]\n",
    "\n",
    "n, bins, _ = plt.hist(samples, density=False, bins=30, weights=np.ones(len(samples)) / len(samples))"
   ]
  },
  {
   "cell_type": "code",
   "execution_count": 6,
   "metadata": {},
   "outputs": [
    {
     "data": {
      "image/png": "[encoded data removed]",
      "text/plain": [
       "<Figure size 432x288 with 1 Axes>"
      ]
     },
     "metadata": {
      "needs_background": "light"
     },
     "output_type": "display_data"
    }
   ],
   "source": [
    "concrete = BinaryConcrete(temperature=0.5, probs=0.3)\n",
    "m        = StretchedAndRectifiedDistribution(concrete)\n",
    "\n",
    "samples  = [m.sample() for _ in range(1000)]\n",
    "\n",
    "n, bins, _ = plt.hist(samples, density=False, bins=50, weights=np.ones(len(samples)) / len(samples))\n",
    "plt.grid()\n",
    "plt.show()"
   ]
  },
  {
   "cell_type": "code",
   "execution_count": 7,
   "metadata": {},
   "outputs": [
    {
     "data": {
      "image/png": "[encoded data removed]",
      "text/plain": [
       "<Figure size 432x288 with 1 Axes>"
      ]
     },
     "metadata": {
      "needs_background": "light"
     },
     "output_type": "display_data"
    }
   ],
   "source": [
    "uniform   = CustomUniform(low=0, high=1)\n",
    "h_uniform = StretchedAndRectifiedDistribution(uniform)\n",
    "\n",
    "samples  = [h_uniform.sample() for _ in range(1000)]\n",
    "\n",
    "n, bins, _ = plt.hist(samples, density=False, bins=50, weights=np.ones(len(samples)) / len(samples))\n",
    "plt.grid()\n",
    "plt.show()"
   ]
  },
  {
   "cell_type": "code",
   "execution_count": 9,
   "metadata": {},
   "outputs": [
    {
     "name": "stdout",
     "output_type": "stream",
     "text": [
      "tensor([0.5000])\n",
      "tensor([0.6000])\n",
      "<class 'torch.Tensor'>\n",
      "tensor([0.6000])\n",
      "<class 'torch.Tensor'>\n",
      "tensor([0.6000])\n",
      "<class 'torch.Tensor'>\n",
      "tensor([0.6000])\n",
      "<class 'torch.Tensor'>\n",
      "tensor([0.6000])\n",
      "<class 'torch.Tensor'>\n",
      "tensor([0.6000])\n",
      "<class 'torch.Tensor'>\n",
      "tensor([0.], grad_fn=<AddBackward0>)\n"
     ]
    }
   ],
   "source": [
    "temp = torch.tensor([0.5])\n",
    "\n",
    "print(temp)\n",
    "\n",
    "concrete1   = BinaryConcrete(temperature=temp, probs=0.3)\n",
    "h_concrete1 = StretchedAndRectifiedDistribution(concrete)\n",
    "\n",
    "temp = torch.tensor([0.6])\n",
    "concrete   = BinaryConcrete(temperature=temp, probs=0.9)\n",
    "h_concrete = StretchedAndRectifiedDistribution(concrete)\n",
    "\n",
    "# samples  = [m.sample() for _ in range(1000)]\n",
    "\n",
    "# n, bins, _ = plt.hist(samples, density=False, bins=50, weights=np.ones(len(samples)) / len(samples))\n",
    "# plt.grid()\n",
    "# plt.show()\n",
    "\n",
    "kl_div = torch.distributions.kl.kl_divergence(h_concrete1, h_concrete1)\n",
    "print(kl_div)"
   ]
  },
  {
   "cell_type": "code",
   "execution_count": null,
   "metadata": {},
   "outputs": [],
   "source": []
  },
  {
   "cell_type": "code",
   "execution_count": null,
   "metadata": {},
   "outputs": [],
   "source": []
  },
  {
   "cell_type": "code",
   "execution_count": null,
   "metadata": {},
   "outputs": [],
   "source": []
  },
  {
   "cell_type": "code",
   "execution_count": null,
   "metadata": {},
   "outputs": [],
   "source": []
  },
  {
   "cell_type": "code",
   "execution_count": null,
   "metadata": {},
   "outputs": [],
   "source": []
  }
 ],
 "metadata": {
  "kernelspec": {
   "display_name": "Python 3",
   "language": "python",
   "name": "python3"
  },
  "language_info": {
   "codemirror_mode": {
    "name": "ipython",
    "version": 3
   },
   "file_extension": ".py",
   "mimetype": "text/x-python",
   "name": "python",
   "nbconvert_exporter": "python",
   "pygments_lexer": "ipython3",
   "version": "3.7.2"
  }
 },
 "nbformat": 4,
 "nbformat_minor": 2
}
