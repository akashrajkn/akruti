{
 "cells": [
  {
   "cell_type": "code",
   "execution_count": 74,
   "metadata": {},
   "outputs": [],
   "source": [
    "import os\n",
    "import pickle\n",
    "import random\n",
    "\n",
    "import torch\n",
    "import torch.nn as nn\n",
    "import torch.nn.functional as F\n",
    "import torch.optim as optim\n",
    "import numpy as np\n",
    "import matplotlib.pyplot as plt\n",
    "\n",
    "from torch.utils.data import DataLoader\n",
    "\n",
    "from kumaraswamy import Kumaraswamy"
   ]
  },
  {
   "cell_type": "code",
   "execution_count": 81,
   "metadata": {},
   "outputs": [
    {
     "name": "stdout",
     "output_type": "stream",
     "text": [
      "tensor([[0.9826, 0.2640],\n",
      "        [0.2844, 0.4427],\n",
      "        [0.9443, 0.7651]])\n",
      "tensor([[-1.2289,  0.0897],\n",
      "        [ 7.3022, -0.2697],\n",
      "        [ 1.3721, -0.0108]])\n",
      "KL Divergence: 1.2195963859558105\n",
      "tensor([[-2.6735,  0.5000],\n",
      "        [ 0.5016, -0.1759],\n",
      "        [ 2.9206,  0.1468]])\n"
     ]
    }
   ],
   "source": [
    "a = torch.rand(3,2)\n",
    "b = torch.rand(3,2)\n",
    "\n",
    "# print(a)\n",
    "# print(b)\n",
    "\n",
    "# kuma_prior = Kumaraswamy(torch.zeros_like(a), torch.zeros_like(b))\n",
    "kuma_prior = Kumaraswamy(a, b)\n",
    "kuma_post  = Kumaraswamy(a, b)\n",
    "\n",
    "print(kuma_prior.sample())\n",
    "# print(kuma_post.sample())\n",
    "\n",
    "print(kuma_prior.log_prob(kuma_prior.sample()))\n",
    "\n",
    "\n",
    "kl_div = torch.distributions.kl.kl_divergence(kuma_post, kuma_prior)\n",
    "print('KL Divergence: {}'.format(torch.sum(kl_div)))\n",
    "print(kl_div)"
   ]
  },
  {
   "cell_type": "code",
   "execution_count": 79,
   "metadata": {},
   "outputs": [
    {
     "name": "stdout",
     "output_type": "stream",
     "text": [
      "tensor([[-0.1195, -0.7692],\n",
      "        [-0.5274,  0.6126],\n",
      "        [ 4.7062, -0.6842]])\n"
     ]
    }
   ],
   "source": [
    "loc = torch.rand(3,2)\n",
    "var = torch.rand(3,2)\n",
    "\n",
    "norm_a = torch.distributions.normal.Normal(loc, var)\n",
    "norm_b = torch.distributions.normal.Normal(loc, var)\n",
    "\n",
    "# kl_div = torch.distributions.kl.kl_divergence(norm_a, norm_b)\n",
    "\n",
    "# print(kl_div)\n",
    "\n",
    "\n",
    "print(norm_a.log_prob(norm_a.sample()))\n",
    "\n",
    "\n"
   ]
  },
  {
   "cell_type": "code",
   "execution_count": 62,
   "metadata": {},
   "outputs": [
    {
     "data": {
      "text/plain": [
       "tensor([[1., 0.],\n",
       "        [0., 1.]])"
      ]
     },
     "execution_count": 62,
     "metadata": {},
     "output_type": "execute_result"
    }
   ],
   "source": [
    "torch.eye(2)"
   ]
  }
 ],
 "metadata": {
  "kernelspec": {
   "display_name": "Python 3",
   "language": "python",
   "name": "python3"
  },
  "language_info": {
   "codemirror_mode": {
    "name": "ipython",
    "version": 3
   },
   "file_extension": ".py",
   "mimetype": "text/x-python",
   "name": "python",
   "nbconvert_exporter": "python",
   "pygments_lexer": "ipython3",
   "version": "3.7.2"
  }
 },
 "nbformat": 4,
 "nbformat_minor": 2
}
