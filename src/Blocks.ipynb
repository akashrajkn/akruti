{
 "cells": [
  {
   "cell_type": "code",
   "execution_count": 1,
   "metadata": {},
   "outputs": [],
   "source": [
    "import os\n",
    "import pickle\n",
    "import copy\n",
    "import random\n",
    "import logging\n",
    "import argparse\n",
    "import pandas\n",
    "\n",
    "import matplotlib.pyplot as plt\n",
    "\n",
    "import torch\n",
    "import torch.nn as nn\n",
    "import torch.optim as optim\n",
    "import torch.nn.functional as F\n",
    "\n",
    "import matplotlib.pyplot as plt\n",
    "import numpy as np\n",
    "\n",
    "from torch.utils.data import DataLoader\n",
    "from torchvision import datasets, transforms\n",
    "from torchvision.utils import save_image\n",
    "from collections import defaultdict\n",
    "\n",
    "from sklearn.manifold import TSNE\n",
    "from sklearn.decomposition import PCA\n",
    "\n",
    "from timeit import default_timer as timer\n",
    "from datetime import timedelta\n",
    "\n",
    "from blocks import VAE\n",
    "from dataset import MorphologyDatasetTask3, Vocabulary\n",
    "\n",
    "from blocks_main import initialize_model, initialize_dataloader\n",
    "\n",
    "import main"
   ]
  },
  {
   "cell_type": "code",
   "execution_count": 2,
   "metadata": {},
   "outputs": [],
   "source": [
    "def plot_TSNE(z_list, l_list=None, hide_axis=True, pca_components=50, num_clusters=10, unique_keys=None):\n",
    "    \n",
    "    if pca_components is not None:\n",
    "        pca    = PCA(n_components=pca_components)\n",
    "        z_list = pca.fit_transform(z_list)\n",
    "\n",
    "    X_reduced = TSNE(n_components=2, random_state=0).fit_transform(z_list)\n",
    "\n",
    "    with plt.style.context('seaborn-deep'):\n",
    "        plt.figure(figsize=(8, 6))\n",
    "\n",
    "        fig, ax = plt.subplots()\n",
    "        cax = ax.scatter(X_reduced[:, 0], X_reduced[:, 1], c=l_list[:], marker='o', edgecolor='none', \n",
    "                         cmap=plt.cm.get_cmap('tab20', num_clusters), alpha=1)\n",
    "        cbar = fig.colorbar(cax, ticks=list(range(len(unique_keys))))\n",
    "        cbar.ax.set_yticklabels(unique_keys)\n",
    "\n",
    "        axes = plt.gca()\n",
    "        plt.setp(ax.get_xticklabels(), visible=False)\n",
    "        plt.setp(ax.get_yticklabels(), visible=False)\n",
    "        ax.tick_params(axis='both', which='both', length=0)\n",
    "\n",
    "        plt.show()"
   ]
  },
  {
   "cell_type": "markdown",
   "metadata": {},
   "source": [
    "### Word VAE "
   ]
  },
  {
   "cell_type": "code",
   "execution_count": 3,
   "metadata": {},
   "outputs": [],
   "source": [
    "def get_z_VAE(model, test_loader):\n",
    "\n",
    "    model.eval()\n",
    "    z_list = None\n",
    "    it_sup = iter(test_loader)\n",
    "    i      = 0\n",
    "\n",
    "    while True:\n",
    "        try:\n",
    "            sample_batched_sup = next(it_sup)\n",
    "        except StopIteration:\n",
    "            break\n",
    "\n",
    "        x_t_sup = sample_batched_sup['target_form'].to(device)\n",
    "        x_t_sup = torch.transpose(x_t_sup, 0, 1)\n",
    "\n",
    "        outputs, mu, logvar = model(x_t_sup)\n",
    "\n",
    "        z = model.reparameterize(mu, logvar)\n",
    "        \n",
    "        if i == 0:\n",
    "            z_list = z.detach().cpu().numpy()\n",
    "        else:\n",
    "            z_list = np.concatenate((z_list, z.detach().cpu().numpy()), axis=0)\n",
    "        \n",
    "        i += 1\n",
    "        \n",
    "        if i == 10000:\n",
    "            break\n",
    "\n",
    "    print(\"Num test points = {}\".format(str(i)))\n",
    "    return z_list"
   ]
  },
  {
   "cell_type": "code",
   "execution_count": 4,
   "metadata": {},
   "outputs": [
    {
     "data": {
      "text/plain": [
       "IncompatibleKeys(missing_keys=[], unexpected_keys=[])"
      ]
     },
     "execution_count": 4,
     "metadata": {},
     "output_type": "execute_result"
    }
   ],
   "source": [
    "language = 'turkish'\n",
    "model_id = '6'\n",
    "\n",
    "device         = torch.device('cpu')\n",
    "checkpoint     = torch.load('../models/vae_{}-{}/model.pt'.format(language, model_id), map_location=device)\n",
    "\n",
    "config         = checkpoint['config']\n",
    "vocab          = checkpoint['vocab']\n",
    "\n",
    "test_loader, d = initialize_dataloader(run_type='train', language=config['language'], task='sup',\n",
    "                                       vocab=vocab, batch_size=1, shuffle=True)\n",
    "idx_2_char     = d.idx_2_char\n",
    "\n",
    "model          = initialize_model(config)\n",
    "model.load_state_dict(checkpoint['model_state_dict'])"
   ]
  },
  {
   "cell_type": "code",
   "execution_count": 5,
   "metadata": {},
   "outputs": [
    {
     "name": "stdout",
     "output_type": "stream",
     "text": [
      "Num test points = 10000\n"
     ]
    },
    {
     "ename": "TypeError",
     "evalue": "'NoneType' object is not subscriptable",
     "output_type": "error",
     "traceback": [
      "\u001b[0;31m---------------------------------------------------------------------------\u001b[0m",
      "\u001b[0;31mTypeError\u001b[0m                                 Traceback (most recent call last)",
      "\u001b[0;32m<ipython-input-5-9b614b86bb34>\u001b[0m in \u001b[0;36m<module>\u001b[0;34m\u001b[0m\n\u001b[1;32m      1\u001b[0m \u001b[0mz_list\u001b[0m \u001b[0;34m=\u001b[0m \u001b[0mget_z_VAE\u001b[0m\u001b[0;34m(\u001b[0m\u001b[0mmodel\u001b[0m\u001b[0;34m,\u001b[0m \u001b[0mtest_loader\u001b[0m\u001b[0;34m)\u001b[0m\u001b[0;34m\u001b[0m\u001b[0;34m\u001b[0m\u001b[0m\n\u001b[1;32m      2\u001b[0m \u001b[0;34m\u001b[0m\u001b[0m\n\u001b[0;32m----> 3\u001b[0;31m \u001b[0mplot_TSNE\u001b[0m\u001b[0;34m(\u001b[0m\u001b[0mz_list\u001b[0m\u001b[0;34m,\u001b[0m \u001b[0mhide_axis\u001b[0m\u001b[0;34m=\u001b[0m\u001b[0;32mFalse\u001b[0m\u001b[0;34m)\u001b[0m\u001b[0;34m\u001b[0m\u001b[0;34m\u001b[0m\u001b[0m\n\u001b[0m",
      "\u001b[0;32m<ipython-input-2-582ea9e8743d>\u001b[0m in \u001b[0;36mplot_TSNE\u001b[0;34m(z_list, l_list, hide_axis, pca_components, num_clusters, unique_keys)\u001b[0m\n\u001b[1;32m     11\u001b[0m \u001b[0;34m\u001b[0m\u001b[0m\n\u001b[1;32m     12\u001b[0m         \u001b[0mfig\u001b[0m\u001b[0;34m,\u001b[0m \u001b[0max\u001b[0m \u001b[0;34m=\u001b[0m \u001b[0mplt\u001b[0m\u001b[0;34m.\u001b[0m\u001b[0msubplots\u001b[0m\u001b[0;34m(\u001b[0m\u001b[0;34m)\u001b[0m\u001b[0;34m\u001b[0m\u001b[0;34m\u001b[0m\u001b[0m\n\u001b[0;32m---> 13\u001b[0;31m         cax = ax.scatter(X_reduced[:, 0], X_reduced[:, 1], c=l_list[:], marker='o', edgecolor='none', \n\u001b[0m\u001b[1;32m     14\u001b[0m                          cmap=plt.cm.get_cmap('tab20', num_clusters), alpha=1)\n\u001b[1;32m     15\u001b[0m         \u001b[0mcbar\u001b[0m \u001b[0;34m=\u001b[0m \u001b[0mfig\u001b[0m\u001b[0;34m.\u001b[0m\u001b[0mcolorbar\u001b[0m\u001b[0;34m(\u001b[0m\u001b[0mcax\u001b[0m\u001b[0;34m,\u001b[0m \u001b[0mticks\u001b[0m\u001b[0;34m=\u001b[0m\u001b[0mlist\u001b[0m\u001b[0;34m(\u001b[0m\u001b[0mrange\u001b[0m\u001b[0;34m(\u001b[0m\u001b[0mlen\u001b[0m\u001b[0;34m(\u001b[0m\u001b[0munique_keys\u001b[0m\u001b[0;34m)\u001b[0m\u001b[0;34m)\u001b[0m\u001b[0;34m)\u001b[0m\u001b[0;34m)\u001b[0m\u001b[0;34m\u001b[0m\u001b[0;34m\u001b[0m\u001b[0m\n",
      "\u001b[0;31mTypeError\u001b[0m: 'NoneType' object is not subscriptable"
     ]
    },
    {
     "data": {
      "text/plain": [
       "<Figure size 576x432 with 0 Axes>"
      ]
     },
     "metadata": {},
     "output_type": "display_data"
    },
    {
     "data": {
      "image/png": "[encoded data removed]",
      "text/plain": [
       "<Figure size 432x288 with 1 Axes>"
      ]
     },
     "metadata": {
      "needs_background": "light"
     },
     "output_type": "display_data"
    }
   ],
   "source": [
    "z_list = get_z_VAE(model, test_loader)\n",
    "\n",
    "plot_TSNE(z_list, hide_axis=False)"
   ]
  },
  {
   "cell_type": "markdown",
   "metadata": {},
   "source": [
    "### Labeled MSVAE"
   ]
  },
  {
   "cell_type": "code",
   "execution_count": null,
   "metadata": {},
   "outputs": [],
   "source": [
    "def get_z_MSVAE(model, test_loader, unique_keys, idx_2_char):\n",
    "\n",
    "    model.eval()\n",
    "    z_list = None\n",
    "    l_list = []\n",
    "    it_sup = iter(test_loader)\n",
    "    i      = 0\n",
    "\n",
    "    while True:\n",
    "        try:\n",
    "            sample_batched_sup = next(it_sup)\n",
    "        except StopIteration:\n",
    "            break\n",
    "\n",
    "        x_t_sup = sample_batched_sup['target_form'].to(device)\n",
    "        y_t_sup = sample_batched_sup['msd'].to(device)\n",
    "\n",
    "        x_t_sup = torch.transpose(x_t_sup, 0, 1)\n",
    "        y_t_sup = torch.transpose(y_t_sup, 0, 1)\n",
    "\n",
    "        outputs, mu, logvar = model(x_t_sup, y_t_sup)\n",
    "#         z                   = model.reparameterize(mu, logvar)\n",
    "        z = mu\n",
    "        \n",
    "        if i == 0:\n",
    "            z_list = z.detach().cpu().numpy()\n",
    "        else:\n",
    "            z_list = np.concatenate((z_list, z.detach().cpu().numpy()), axis=0)\n",
    "            \n",
    "        print(outputs.size())\n",
    "\n",
    "        outputs     = outputs[1:].view(-1, outputs.shape[-1])\n",
    "        outputs     = F.log_softmax(outputs, dim=1).type(torch.LongTensor)\n",
    "        outputs     = torch.squeeze(outputs, 1)\n",
    "        print(outputs.size())\n",
    "        \n",
    "        target_word = ''\n",
    "        for j in outputs:\n",
    "            p      = np.argmax(j, axis=0).detach().cpu().item()\n",
    "            entity = idx_2_char[p]\n",
    "\n",
    "            if   entity == '<SOS>':\n",
    "                continue\n",
    "            elif entity == '<PAD>' or entity == '<EOS>':\n",
    "                break\n",
    "\n",
    "            target_word += idx_2_char[p]\n",
    "\n",
    "        print('actual: {}, predicted: {}'.format(sample_batched_sup['target_str'][0], target_word))\n",
    "\n",
    "        x_s_raw = sample_batched_sup['source_str'][0]\n",
    "        label   = unique_keys.index(x_s_raw)\n",
    "        l_list.append(label)\n",
    "        i += 1\n",
    "        \n",
    "#         if i == 100:\n",
    "#             break\n",
    "\n",
    "    print(\"Num test points = {}\".format(str(i)))\n",
    "    return z_list, l_list"
   ]
  },
  {
   "cell_type": "code",
   "execution_count": null,
   "metadata": {},
   "outputs": [],
   "source": [
    "language = 'turkish'\n",
    "model_id = '5'\n",
    "\n",
    "device         = torch.device('cpu')\n",
    "checkpoint     = torch.load('../models/vae_{}-{}/model.pt'.format(language, model_id), map_location=device)\n",
    "\n",
    "config         = checkpoint['config']\n",
    "vocab          = checkpoint['vocab']\n",
    "\n",
    "max_seq_len    = main.get_max_seq_len(language, vocab)\n",
    "csvpath        = '../data/{}_stem_greater_12'.format(language)\n",
    "d              = MorphologyDatasetTask3(test=True, language=language, vocab=vocab, tasks=['none'], get_unprocessed=True,\n",
    "                                        max_unsup=10000, max_seq_len=max_seq_len, csvpath=csvpath)\n",
    "test_loader    = DataLoader(d, batch_size=1, shuffle=False, num_workers=2)\n",
    "\n",
    "\n",
    "idx_2_char     = d.idx_2_char\n",
    "\n",
    "model          = initialize_model(config)\n",
    "model.load_state_dict(checkpoint['model_state_dict'])"
   ]
  },
  {
   "cell_type": "code",
   "execution_count": null,
   "metadata": {},
   "outputs": [],
   "source": [
    "with open(csvpath, 'r') as f:\n",
    "    source = f.read()\n",
    "\n",
    "lines = source.strip().split('\\n')\n",
    "\n",
    "print('Total lines: {}'.format(len(lines)))\n",
    "\n",
    "unique_x_s = defaultdict(int)\n",
    "unique_msd = defaultdict(int)\n",
    "\n",
    "for line in lines:\n",
    "    words = line.strip().split('\\t')\n",
    "    msds  = words[1].strip().split(',')\n",
    "\n",
    "    unique_x_s[words[0]] += 1\n",
    "\n",
    "    for msd in msds:\n",
    "        unique_msd[msd]  += 1"
   ]
  },
  {
   "cell_type": "code",
   "execution_count": null,
   "metadata": {
    "scrolled": true
   },
   "outputs": [],
   "source": [
    "unique_keys = list(unique_x_s.keys())\n",
    "z_list, l_list = get_z_MSVAE(model, test_loader, unique_keys, idx_2_char)"
   ]
  },
  {
   "cell_type": "code",
   "execution_count": null,
   "metadata": {
    "scrolled": false
   },
   "outputs": [],
   "source": [
    "unique_keys = list(unique_x_s.keys())\n",
    "\n",
    "ticks = []\n",
    "\n",
    "for i in range(len(set(l_list))):\n",
    "    ticks.append(unique_keys[i])\n",
    "\n",
    "plot_TSNE(z_list, l_list, num_clusters=len(set(l_list)), pca_components=None, unique_keys=unique_keys)"
   ]
  },
  {
   "cell_type": "code",
   "execution_count": null,
   "metadata": {},
   "outputs": [],
   "source": [
    "language = 'turkish'\n",
    "model_id = 1"
   ]
  },
  {
   "cell_type": "markdown",
   "metadata": {},
   "source": [
    "### Rectified random variables"
   ]
  },
  {
   "cell_type": "code",
   "execution_count": null,
   "metadata": {},
   "outputs": [],
   "source": [
    "unique_keys = list(unique_x_s.keys())"
   ]
  },
  {
   "cell_type": "code",
   "execution_count": 14,
   "metadata": {},
   "outputs": [],
   "source": [
    "def get_z_Ours(model_id, language, unique_keys, csvpath):\n",
    "\n",
    "    device         = torch.device('cpu')\n",
    "    checkpoint     = torch.load('../models/{}-{}/model.pt'.format(language, model_id), map_location=device)\n",
    "\n",
    "    config         = checkpoint['config']\n",
    "    vocab          = checkpoint['vocab']\n",
    "\n",
    "    max_seq_len    = main.get_max_seq_len(language, vocab)\n",
    "    d              = MorphologyDatasetTask3(test=True, language=language, vocab=vocab, tasks=['none'], get_unprocessed=True,\n",
    "                                            max_unsup=10000, max_seq_len=max_seq_len, csvpath=csvpath)\n",
    "    test_loader    = DataLoader(d, batch_size=1, shuffle=False, num_workers=2)\n",
    "\n",
    "\n",
    "    idx_2_char     = d.idx_2_char\n",
    "\n",
    "    model, _       = main.initialize_model(config)\n",
    "\n",
    "    model.load_state_dict(checkpoint['model_state_dict'])\n",
    "\n",
    "    model.eval()\n",
    "    z_list = None\n",
    "    l_list = []\n",
    "    it_sup = iter(test_loader)\n",
    "    i      = 0\n",
    "    correct= 0\n",
    "\n",
    "    while True:\n",
    "        try:\n",
    "            sample_batched_sup = next(it_sup)\n",
    "        except StopIteration:\n",
    "            break\n",
    "        \n",
    "        x_s_sup = sample_batched_sup['source_form'].to(device)\n",
    "        x_t_sup = sample_batched_sup['target_form'].to(device)\n",
    "        y_t_sup = sample_batched_sup['msd'].to(device)\n",
    "\n",
    "        x_s_sup = torch.transpose(x_s_sup, 0, 1)\n",
    "        x_t_sup = torch.transpose(x_t_sup, 0, 1)\n",
    "        y_t_sup = torch.transpose(y_t_sup, 0, 1)\n",
    "\n",
    "        outputs, mu, logvar = model(x_s_sup, x_t_sup, y_t_sup)\n",
    "        z = mu\n",
    "        \n",
    "        if i == 0:\n",
    "            z_list = z.detach().cpu().numpy()\n",
    "        else:\n",
    "            z_list = np.concatenate((z_list, z.detach().cpu().numpy()), axis=0)\n",
    "            \n",
    "        outputs     = outputs[1:].view(-1, outputs.shape[-1])\n",
    "        outputs     = F.log_softmax(outputs, dim=1).type(torch.LongTensor)\n",
    "        outputs     = torch.squeeze(outputs, 1)\n",
    "        \n",
    "        target_word = ''\n",
    "        for j in outputs:\n",
    "            p      = np.argmax(j, axis=0).detach().cpu().item()\n",
    "            entity = idx_2_char[p]\n",
    "\n",
    "            if   entity == '<SOS>':\n",
    "                continue\n",
    "            elif entity == '<PAD>' or entity == '<EOS>':\n",
    "                break\n",
    "\n",
    "            target_word += idx_2_char[p]\n",
    "\n",
    "        # print('actual: {}, predicted: {}'.format(sample_batched_sup['target_str'][0], target_word))\n",
    "        if sample_batched_sup['target_str'][0] == target_word:\n",
    "            correct += 1\n",
    "\n",
    "        x_s_raw = sample_batched_sup['source_str'][0]\n",
    "        label   = unique_keys.index(x_s_raw)\n",
    "        l_list.append(label)\n",
    "        i += 1\n",
    "\n",
    "    print(\"Num test points = {}\".format(str(i)))\n",
    "    print(\"Accuracy = {}\".format((correct * 1.) / i))\n",
    "    return z_list, l_list"
   ]
  },
  {
   "cell_type": "code",
   "execution_count": 6,
   "metadata": {},
   "outputs": [
    {
     "name": "stdout",
     "output_type": "stream",
     "text": [
      "Total lines: 203\n"
     ]
    }
   ],
   "source": [
    "language = 'turkish'\n",
    "csvpath  = '../data/{}_stem_greater_12'.format(language)\n",
    "\n",
    "with open(csvpath, 'r') as f:\n",
    "    source = f.read()\n",
    "\n",
    "lines = source.strip().split('\\n')\n",
    "\n",
    "print('Total lines: {}'.format(len(lines)))\n",
    "\n",
    "unique_x_s = defaultdict(int)\n",
    "unique_msd = defaultdict(int)\n",
    "\n",
    "for line in lines:\n",
    "    words = line.strip().split('\\t')\n",
    "    msds  = words[1].strip().split(',')\n",
    "\n",
    "    unique_x_s[words[0]] += 1\n",
    "\n",
    "    for msd in msds:\n",
    "        unique_msd[msd]  += 1\n",
    "\n",
    "unique_keys = list(unique_x_s.keys())"
   ]
  },
  {
   "cell_type": "code",
   "execution_count": 98,
   "metadata": {
    "scrolled": true
   },
   "outputs": [
    {
     "name": "stdout",
     "output_type": "stream",
     "text": [
      "Num test points = 203\n",
      "Accuracy = 0.6847290640394089\n"
     ]
    }
   ],
   "source": [
    "model_id = '19'\n",
    "\n",
    "z_list_19, l_list_19 = get_z_Ours(model_id, language, unique_keys, csvpath)"
   ]
  },
  {
   "cell_type": "code",
   "execution_count": 99,
   "metadata": {},
   "outputs": [
    {
     "data": {
      "text/plain": [
       "<Figure size 576x432 with 0 Axes>"
      ]
     },
     "metadata": {},
     "output_type": "display_data"
    },
    {
     "data": {
      "image/png": "[encoded data removed]",
      "text/plain": [
       "<Figure size 432x288 with 2 Axes>"
      ]
     },
     "metadata": {
      "needs_background": "light"
     },
     "output_type": "display_data"
    }
   ],
   "source": [
    "ticks = []\n",
    "\n",
    "for i in range(len(set(l_list_19))):\n",
    "    ticks.append(unique_keys[i])\n",
    "\n",
    "plot_TSNE(z_list_19, l_list_19, num_clusters=len(set(l_list_19)), pca_components=None, unique_keys=unique_keys)"
   ]
  },
  {
   "cell_type": "code",
   "execution_count": 100,
   "metadata": {},
   "outputs": [
    {
     "name": "stdout",
     "output_type": "stream",
     "text": [
      "Num test points = 203\n",
      "Accuracy = 0.6551724137931034\n"
     ]
    }
   ],
   "source": [
    "model_id = '24'\n",
    "\n",
    "z_list_20, l_list_20 = get_z_Ours(model_id, language, unique_keys, csvpath)"
   ]
  },
  {
   "cell_type": "code",
   "execution_count": 101,
   "metadata": {},
   "outputs": [
    {
     "data": {
      "text/plain": [
       "<Figure size 576x432 with 0 Axes>"
      ]
     },
     "metadata": {},
     "output_type": "display_data"
    },
    {
     "data": {
      "image/png": "[encoded data removed]",
      "text/plain": [
       "<Figure size 432x288 with 2 Axes>"
      ]
     },
     "metadata": {
      "needs_background": "light"
     },
     "output_type": "display_data"
    }
   ],
   "source": [
    "ticks = []\n",
    "\n",
    "for i in range(len(set(l_list_20))):\n",
    "    ticks.append(unique_keys[i])\n",
    "\n",
    "plot_TSNE(z_list_20, l_list_19, num_clusters=len(set(l_list_19)), pca_components=None, unique_keys=unique_keys)"
   ]
  },
  {
   "cell_type": "code",
   "execution_count": 102,
   "metadata": {},
   "outputs": [],
   "source": [
    "X_reduced_19 = TSNE(n_components=2, random_state=0).fit_transform(z_list_19)\n",
    "X_reduced_20 = TSNE(n_components=2, random_state=0).fit_transform(z_list_20)\n",
    "\n",
    "num_clusters=len(set(l_list_19))"
   ]
  },
  {
   "cell_type": "code",
   "execution_count": 103,
   "metadata": {},
   "outputs": [
    {
     "data": {
      "image/png": "[encoded data removed]",
      "text/plain": [
       "<Figure size 720x252 with 3 Axes>"
      ]
     },
     "metadata": {
      "needs_background": "light"
     },
     "output_type": "display_data"
    }
   ],
   "source": [
    "X_reduced = X_reduced_19\n",
    "l_list = l_list_19\n",
    "\n",
    "with plt.style.context('seaborn-deep'):\n",
    "\n",
    "    fig, axes = plt.subplots(nrows=1, ncols=2, figsize=(10, 3.5))\n",
    "\n",
    "    for ax in axes.flat:\n",
    "        im = ax.scatter(X_reduced[:, 0], X_reduced[:, 1], c=l_list[:], marker='o', edgecolor='black', linewidths=0.2, \n",
    "                        cmap=plt.cm.get_cmap('tab20', num_clusters), alpha=0.9)\n",
    "        plt.setp(ax.get_xticklabels(), visible=False)\n",
    "        plt.setp(ax.get_yticklabels(), visible=False)\n",
    "        ax.tick_params(axis='both', which='both', length=0)\n",
    "\n",
    "        X_reduced = X_reduced_20\n",
    "        l_list = l_list_20\n",
    "\n",
    "    fig.subplots_adjust(right=0.8)\n",
    "    cbar_ax = fig.add_axes([0.83, 0.15, 0.015, 0.7])\n",
    "\n",
    "    cbar = fig.colorbar(im, cax=cbar_ax, ticks=list(range(len(unique_keys))))\n",
    "    cbar.ax.set_yticklabels(unique_keys)\n",
    "    \n",
    "    plt.show()"
   ]
  },
  {
   "cell_type": "code",
   "execution_count": null,
   "metadata": {},
   "outputs": [],
   "source": []
  }
 ],
 "metadata": {
  "kernelspec": {
   "display_name": "Python 3",
   "language": "python",
   "name": "python3"
  },
  "language_info": {
   "codemirror_mode": {
    "name": "ipython",
    "version": 3
   },
   "file_extension": ".py",
   "mimetype": "text/x-python",
   "name": "python",
   "nbconvert_exporter": "python",
   "pygments_lexer": "ipython3",
   "version": "3.7.2"
  }
 },
 "nbformat": 4,
 "nbformat_minor": 2
}
