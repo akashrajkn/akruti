{
 "cells": [
  {
   "cell_type": "markdown",
   "metadata": {},
   "source": [
    "# Rectified Normalized Flow for Density Estimation"
   ]
  },
  {
   "cell_type": "code",
   "execution_count": 10,
   "metadata": {},
   "outputs": [],
   "source": [
    "import numpy as np\n",
    "\n",
    "import torch\n",
    "import torch.nn as nn\n",
    "import torch.optim as optim\n",
    "import torch.nn.functional as F\n",
    "import numpy as np\n",
    "\n",
    "from torch.distributions.distribution import Distribution\n",
    "\n",
    "import matplotlib.pyplot as plt"
   ]
  },
  {
   "cell_type": "markdown",
   "metadata": {},
   "source": [
    "### Data"
   ]
  },
  {
   "cell_type": "code",
   "execution_count": 12,
   "metadata": {},
   "outputs": [],
   "source": [
    "mu_1  = .1\n",
    "mu_2  = .5\n",
    "mu_3  = .9\n",
    "\n",
    "sigma = 0.08\n",
    "\n",
    "s_1 = np.random.normal(mu_1, sigma, 1000)\n",
    "s_2 = np.random.normal(mu_2, sigma, 1000)\n",
    "s_3 = np.random.normal(mu_3, sigma, 1000)\n",
    "\n",
    "s = np.concatenate((s_1, s_2, s_3))\n",
    "\n",
    "s = np.where(s < 0, 0., s)\n",
    "s = np.where(s > 1, 1., s)"
   ]
  },
  {
   "cell_type": "code",
   "execution_count": 13,
   "metadata": {},
   "outputs": [
    {
     "data": {
      "image/png": "[encoded data removed]",
      "text/plain": [
       "<Figure size 432x288 with 1 Axes>"
      ]
     },
     "metadata": {
      "needs_background": "light"
     },
     "output_type": "display_data"
    }
   ],
   "source": [
    "count, bins, ignored = plt.hist(s, 100, density=True)\n",
    "\n",
    "plt.axvline(mu_1, linestyle=':', color='red')\n",
    "plt.axvline(mu_2, linestyle=':', color='red')\n",
    "plt.axvline(mu_3, linestyle=':', color='red')\n",
    "\n",
    "plt.show()"
   ]
  },
  {
   "cell_type": "markdown",
   "metadata": {},
   "source": [
    "## Model"
   ]
  },
  {
   "cell_type": "code",
   "execution_count": 3,
   "metadata": {},
   "outputs": [],
   "source": [
    "class AutoregressiveLinear(nn.Module):\n",
    "    \"\"\"\n",
    "    This layer realises linear transformations\n",
    "        y = f(c, x)\n",
    "    autoregressive in x, i.e. \\pdv{y_i}{x_j} = 0 for i >= j, where\n",
    "        x and y have the same dimensionality\n",
    "        c is a context vector.\n",
    "\n",
    "    The context vector is optional.\n",
    "    \"\"\"\n",
    "\n",
    "    def __init__(self, output_size, context_size=0, bias=True):\n",
    "        \"\"\"\n",
    "        Input size is output size plus context size.\n",
    "\n",
    "        :param output_size:\n",
    "        :param context_size:\n",
    "        :param bias:\n",
    "        \"\"\"\n",
    "        super(AutoregressiveLinear, self).__init__()\n",
    "\n",
    "        self.context_size = context_size\n",
    "        self.output_size = output_size\n",
    "        self.input_size = context_size + output_size\n",
    "\n",
    "        self.weight = nn.parameter.Parameter(torch.Tensor(self.output_size, self.input_size))\n",
    "        if bias:\n",
    "            self.bias = nn.parameter.Parameter(torch.Tensor(output_size))\n",
    "        else:\n",
    "            self.register_parameter('bias', None)\n",
    "\n",
    "        self.reset_parameters()\n",
    "\n",
    "    def reset_parameters(self):\n",
    "        \"\"\"Initializes the bias with zero, the weights with xavier/glorot normal.\"\"\"\n",
    "        # TODO: Use BNAF's initialisation\n",
    "        self.weight = nn.init.xavier_normal_(self.weight)\n",
    "\n",
    "        if self.bias is not None:\n",
    "            self.bias.data.zero_()\n",
    "\n",
    "    def forward(self, inputs, context=None):\n",
    "        \"\"\"Affine transformation with lower triangular weight matrix.\"\"\"\n",
    "        # Note that here I am zero-ing out the diagonal (necessary for the first MADE layer in an IAF)\n",
    "        #  if you wanted to keep the diagonal you would need to do tril(0) or tril(context_units + 0) rather than -1\n",
    "        if self.context_size == 0:\n",
    "            return F.linear(inputs, self.weight.tril(-1), self.bias)\n",
    "        else:  # outputs depend freely on the context units\n",
    "            return F.linear(torch.cat([context, inputs], dim=-1), self.weight.tril(self.context_size - 1), self.bias)\n"
   ]
  },
  {
   "cell_type": "code",
   "execution_count": 7,
   "metadata": {},
   "outputs": [],
   "source": [
    "class IAF(nn.Module):\n",
    "    def __init__(self, latent_size):\n",
    "        super(IAF, self).__init__()\n",
    "\n",
    "        self.z_size = latent_size\n",
    "\n",
    "        self.m = nn.Sequential(\n",
    "            AutoregressiveLinear(self.z_size, self.z_size),\n",
    "            nn.ELU(),\n",
    "            AutoregressiveLinear(self.z_size, self.z_size),\n",
    "            nn.ELU(),\n",
    "            AutoregressiveLinear(self.z_size, self.z_size)\n",
    "        )\n",
    "\n",
    "        self.s = nn.Sequential(\n",
    "            AutoregressiveLinear(self.z_size, self.z_size),\n",
    "            nn.ELU(),\n",
    "            AutoregressiveLinear(self.z_size, self.z_size),\n",
    "            nn.ELU(),\n",
    "            AutoregressiveLinear(self.z_size, self.z_size)\n",
    "        )\n",
    "\n",
    "    def forward(self, x, h=None):\n",
    "        \"\"\"\n",
    "        :param z: An float tensor with shape of [batch_size, z_size]\n",
    "        :return: An float tensor with shape of [batch_size, z_size] and log det value of the IAF mapping Jacobian\n",
    "        \"\"\"\n",
    "        z = x\n",
    "        \n",
    "        m = self.m(z)\n",
    "        s = self.s(z)\n",
    "\n",
    "        z = s.exp() * z + m\n",
    "\n",
    "        log_det = s.sum(1)\n",
    "\n",
    "        return z, log_det"
   ]
  },
  {
   "cell_type": "code",
   "execution_count": 14,
   "metadata": {},
   "outputs": [],
   "source": [
    "iaf       = IAF(latent_size=5)\n",
    "\n",
    "epochs    = 10\n",
    "data      = s\n",
    "optimizer = optim.SGD(iaf.parameters(), lr=0.001)"
   ]
  },
  {
   "cell_type": "code",
   "execution_count": null,
   "metadata": {},
   "outputs": [],
   "source": [
    "iaf.train()\n",
    "\n",
    "for epoch in range(epochs):\n",
    "    for x in data:\n",
    "        z, log_det = iaf(x)\n",
    "        \n",
    "        \n",
    "\n"
   ]
  },
  {
   "cell_type": "code",
   "execution_count": null,
   "metadata": {},
   "outputs": [],
   "source": []
  }
 ],
 "metadata": {
  "kernelspec": {
   "display_name": "Python 3",
   "language": "python",
   "name": "python3"
  },
  "language_info": {
   "codemirror_mode": {
    "name": "ipython",
    "version": 3
   },
   "file_extension": ".py",
   "mimetype": "text/x-python",
   "name": "python",
   "nbconvert_exporter": "python",
   "pygments_lexer": "ipython3",
   "version": "3.7.2"
  }
 },
 "nbformat": 4,
 "nbformat_minor": 2
}
