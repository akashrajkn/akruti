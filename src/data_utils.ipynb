{
 "cells": [
  {
   "cell_type": "code",
   "execution_count": 2,
   "metadata": {},
   "outputs": [],
   "source": [
    "import os\n",
    "import pickle"
   ]
  },
  {
   "cell_type": "code",
   "execution_count": null,
   "metadata": {},
   "outputs": [],
   "source": []
  },
  {
   "cell_type": "code",
   "execution_count": 4,
   "metadata": {},
   "outputs": [],
   "source": [
    "def process_MSD(msd):\n",
    "    '''\n",
    "    Process msd in the input sentence\n",
    "    Args:\n",
    "        msd: string containing different MSDs\n",
    "    Returns:\n",
    "        out: dict with different msds\n",
    "    '''\n",
    "    \n",
    "    out = {}\n",
    "    msds = msd.strip().split(',')\n",
    "\n",
    "    for m in msds:\n",
    "        current = m.strip().split('=')\n",
    "        out[current[0]] = current[1]\n",
    "\n",
    "    return out"
   ]
  },
  {
   "cell_type": "code",
   "execution_count": 5,
   "metadata": {},
   "outputs": [],
   "source": [
    "path = '../data/task1_test'\n",
    "\n",
    "out  = []\n",
    "\n",
    "with open(path, 'r', encoding='utf-8') as f:\n",
    "    source = f.read()\n",
    "    \n",
    "sentences = source.strip().split('\\n')\n",
    "\n",
    "for sentence in sentences:\n",
    "    line = sentence.strip().split('\\t')\n",
    "    \n",
    "    if len(line) > 3:\n",
    "        print('Something wrong with line: {}'.format(sentence))\n",
    "        continue\n",
    "    \n",
    "    current_word = {\n",
    "        'lemma'      : line[0],\n",
    "        'MSD'        : process_MSD(line[1]),\n",
    "        'target_form': line[2]        \n",
    "    }\n",
    "    \n",
    "    out.append(current_word)"
   ]
  },
  {
   "cell_type": "code",
   "execution_count": 9,
   "metadata": {},
   "outputs": [
    {
     "data": {
      "text/plain": [
       "[{'lemma': 'play',\n",
       "  'MSD': {'pos': 'verb', 'tense': 'present', 'mod': 'ind'},\n",
       "  'target_form': 'played'},\n",
       " {'lemma': 'trivial',\n",
       "  'MSD': {'pos': 'adj', 'color': 'neg'},\n",
       "  'target_form': 'untrivial'},\n",
       " {'lemma': 'decided',\n",
       "  'MSD': {'pos': 'verb', 'tense': 'past', 'mod': 'cc'},\n",
       "  'target_form': 'decide'}]"
      ]
     },
     "execution_count": 9,
     "metadata": {},
     "output_type": "execute_result"
    }
   ],
   "source": [
    "# print(out[0])\n",
    "out"
   ]
  },
  {
   "cell_type": "code",
   "execution_count": 11,
   "metadata": {},
   "outputs": [],
   "source": [
    "with open('../data/pickles/task3_test.pkl', 'rb') as f:\n",
    "    n_out = pickle.load(f)"
   ]
  },
  {
   "cell_type": "code",
   "execution_count": 14,
   "metadata": {},
   "outputs": [
    {
     "name": "stdout",
     "output_type": "stream",
     "text": [
      "None\n"
     ]
    }
   ],
   "source": [
    "print(n_out)"
   ]
  },
  {
   "cell_type": "code",
   "execution_count": null,
   "metadata": {},
   "outputs": [],
   "source": []
  }
 ],
 "metadata": {
  "kernelspec": {
   "display_name": "Python 3",
   "language": "python",
   "name": "python3"
  },
  "language_info": {
   "codemirror_mode": {
    "name": "ipython",
    "version": 3
   },
   "file_extension": ".py",
   "mimetype": "text/x-python",
   "name": "python",
   "nbconvert_exporter": "python",
   "pygments_lexer": "ipython3",
   "version": "3.7.2"
  }
 },
 "nbformat": 4,
 "nbformat_minor": 2
}
