{
 "cells": [
  {
   "cell_type": "code",
   "execution_count": 48,
   "metadata": {},
   "outputs": [],
   "source": [
    "import os\n",
    "import pickle\n",
    "import random\n",
    "import logging\n",
    "import argparse\n",
    "\n",
    "import matplotlib.pyplot as plt\n",
    "\n",
    "import torch\n",
    "import torch.nn as nn\n",
    "import torch.optim as optim\n",
    "import torch.nn.functional as F\n",
    "import numpy as np\n",
    "\n",
    "from torch.utils.data import DataLoader\n",
    "from torch.utils.tensorboard import SummaryWriter\n",
    "from timeit import default_timer as timer\n",
    "from datetime import timedelta\n",
    "\n",
    "from models import WordEncoder, Attention, TagEmbedding, WordDecoder, MSVED, KumaMSD\n",
    "from dataset import MorphologyDatasetTask3, Vocabulary\n",
    "\n",
    "from kumaraswamy import Kumaraswamy\n",
    "from hard_kumaraswamy import StretchedAndRectifiedDistribution as HardKumaraswamy\n",
    "\n",
    "from main import *"
   ]
  },
  {
   "cell_type": "code",
   "execution_count": 49,
   "metadata": {},
   "outputs": [],
   "source": [
    "def plot_function(sample, actual, vocab):\n",
    "    x_labels = list(vocab.idx_2_desc.values())\n",
    "\n",
    "    fig, ax = plt.subplots()\n",
    "    im = ax.imshow(torch.cat((sample, actual), 0))\n",
    "\n",
    "    ax.set_xticks(np.arange(len(x_labels)))\n",
    "    ax.set_yticks(np.arange(2))\n",
    "    ax.set_xticklabels(x_labels)\n",
    "    ax.set_yticklabels(['sample', 'actual'])\n",
    "\n",
    "    plt.setp(ax.get_xticklabels(), rotation=90, ha=\"right\",\n",
    "             rotation_mode=\"anchor\")\n",
    "    plt.show()\n"
   ]
  },
  {
   "cell_type": "code",
   "execution_count": 50,
   "metadata": {},
   "outputs": [],
   "source": [
    "def test_kuma(language, model_id):\n",
    "    '''\n",
    "    Test function\n",
    "    '''\n",
    "    device         = torch.device('cpu')\n",
    "    checkpoint     = torch.load('../models/{}-{}/model.pt'.format(language, model_id), map_location=device)\n",
    "\n",
    "    config         = checkpoint['config']\n",
    "    vocab          = checkpoint['vocab']\n",
    "\n",
    "    test_loader, d = initialize_dataloader(run_type='test', language=config['language'], task='sup',\n",
    "                                           vocab=vocab, batch_size=1, shuffle=True)\n",
    "    idx_2_char     = d.idx_2_char\n",
    "\n",
    "    model, kumaMSD = initialize_model(config)\n",
    "    model.load_state_dict(checkpoint['model_state_dict'])\n",
    "    kumaMSD.load_state_dict(checkpoint['kumaMSD_state_dict'])\n",
    "\n",
    "    model.eval()\n",
    "    kumaMSD.eval()\n",
    "    for i_batch, sample_batched in enumerate(test_loader):\n",
    "\n",
    "        with torch.no_grad():\n",
    "            x_s = sample_batched['source_form'].to(device)\n",
    "            x_t = sample_batched['target_form'].to(device)\n",
    "            y_t = sample_batched['msd'].to(device)\n",
    "\n",
    "            x_s = torch.transpose(x_s, 0, 1)\n",
    "            x_t = torch.transpose(x_t, 0, 1)\n",
    "            y_t = torch.transpose(y_t, 0, 1)\n",
    "\n",
    "            x_t_p, _, _ = model(x_s, x_t, y_t)\n",
    "            sample, _   = kumaMSD(x_t)\n",
    "            actual      = torch.sum(y_t, 0)\n",
    "            \n",
    "            x_t_p       = x_t_p[1:].view(-1, x_t_p.shape[-1])\n",
    "\n",
    "            outputs     = F.log_softmax(x_t_p, dim=1).type(torch.LongTensor)\n",
    "            outputs     = torch.squeeze(outputs, 1)\n",
    "\n",
    "            target_word = ''\n",
    "            for i in outputs:\n",
    "                p       = np.argmax(i, axis=0).detach().cpu().item()\n",
    "                entity  = idx_2_char[p]\n",
    "\n",
    "                if   entity == '<SOS>':\n",
    "                    continue\n",
    "                elif entity == '<PAD>' or entity == '<EOS>':\n",
    "                    break\n",
    "\n",
    "                target_word += idx_2_char[p]\n",
    "            \n",
    "        return target_word, sample_batched, sample, actual, vocab"
   ]
  },
  {
   "cell_type": "code",
   "execution_count": 127,
   "metadata": {},
   "outputs": [
    {
     "name": "stdout",
     "output_type": "stream",
     "text": [
      "Source          : ['hüzününü']\n",
      "MSD             : ['pos=N,poss=PSS3S,case=ESS,num=PL']\n",
      "Target          : ['hüzünlerinde']\n",
      "Predicted target: ['hüzünlerinde']\n"
     ]
    },
    {
     "data": {
      "image/png": "[encoded data removed]",
      "text/plain": [
       "<Figure size 432x288 with 1 Axes>"
      ]
     },
     "metadata": {
      "needs_background": "light"
     },
     "output_type": "display_data"
    }
   ],
   "source": [
    "target_word, info, sample, actual, vocab = test_kuma('turkish', '16')\n",
    "\n",
    "print('Source          : {}'.format(info['source_str']))\n",
    "print('MSD             : {}'.format(info['msd_str']))\n",
    "print('Target          : {}'.format(info['target_str']))\n",
    "print(\"Predicted target: ['{}']\".format(target_word))\n",
    "\n",
    "plot_function(sample, actual, vocab)"
   ]
  },
  {
   "cell_type": "code",
   "execution_count": null,
   "metadata": {},
   "outputs": [],
   "source": []
  },
  {
   "cell_type": "code",
   "execution_count": null,
   "metadata": {},
   "outputs": [],
   "source": []
  },
  {
   "cell_type": "code",
   "execution_count": null,
   "metadata": {},
   "outputs": [],
   "source": []
  },
  {
   "cell_type": "code",
   "execution_count": null,
   "metadata": {},
   "outputs": [],
   "source": []
  }
 ],
 "metadata": {
  "kernelspec": {
   "display_name": "Python 3",
   "language": "python",
   "name": "python3"
  },
  "language_info": {
   "codemirror_mode": {
    "name": "ipython",
    "version": 3
   },
   "file_extension": ".py",
   "mimetype": "text/x-python",
   "name": "python",
   "nbconvert_exporter": "python",
   "pygments_lexer": "ipython3",
   "version": "3.7.2"
  }
 },
 "nbformat": 4,
 "nbformat_minor": 2
}
