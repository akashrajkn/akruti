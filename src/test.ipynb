{
 "cells": [
  {
   "cell_type": "code",
   "execution_count": 1,
   "metadata": {},
   "outputs": [],
   "source": [
    "import os\n",
    "import pickle\n",
    "import random\n",
    "import logging\n",
    "import argparse\n",
    "\n",
    "import matplotlib.pyplot as plt\n",
    "\n",
    "import torch\n",
    "import torch.nn as nn\n",
    "import torch.optim as optim\n",
    "import torch.nn.functional as F\n",
    "import numpy as np\n",
    "\n",
    "from torch.utils.data import DataLoader\n",
    "from torch.utils.tensorboard import SummaryWriter\n",
    "from timeit import default_timer as timer\n",
    "from datetime import timedelta\n",
    "\n",
    "from models import WordEncoder, Attention, TagEmbedding, WordDecoder, MSVED, KumaMSD\n",
    "from dataset import MorphologyDatasetTask3, Vocabulary\n",
    "\n",
    "from kumaraswamy import Kumaraswamy\n",
    "from hard_kumaraswamy import StretchedAndRectifiedDistribution as HardKumaraswamy\n",
    "\n",
    "from main import *"
   ]
  },
  {
   "cell_type": "code",
   "execution_count": 2,
   "metadata": {},
   "outputs": [],
   "source": [
    "def plot_function(sample, actual, vocab):\n",
    "    x_labels = list(vocab.idx_2_desc.values())\n",
    "\n",
    "    fig, ax = plt.subplots()\n",
    "    im = ax.imshow(torch.cat((sample, actual), 0).cpu())\n",
    "\n",
    "    ax.set_xticks(np.arange(len(x_labels)))\n",
    "    ax.set_yticks(np.arange(2))\n",
    "    ax.set_xticklabels(x_labels)\n",
    "    ax.set_yticklabels(['sample', 'actual'])\n",
    "\n",
    "    plt.setp(ax.get_xticklabels(), rotation=90, ha=\"right\",\n",
    "             rotation_mode=\"anchor\")\n",
    "    plt.show()\n"
   ]
  },
  {
   "cell_type": "code",
   "execution_count": 3,
   "metadata": {},
   "outputs": [],
   "source": [
    "def test_kuma(model, kumaMSD, test_loader):\n",
    "    '''\n",
    "    Test function\n",
    "    '''\n",
    "    model.eval()\n",
    "    kumaMSD.eval()\n",
    "    for i_batch, sample_batched in enumerate(test_loader):\n",
    "\n",
    "        with torch.no_grad():\n",
    "            x_s = sample_batched['source_form'].to(device)\n",
    "            x_t = sample_batched['target_form'].to(device)\n",
    "            y_t = sample_batched['msd'].to(device)\n",
    "\n",
    "            x_s = torch.transpose(x_s, 0, 1)\n",
    "            x_t = torch.transpose(x_t, 0, 1)\n",
    "            y_t = torch.transpose(y_t, 0, 1)\n",
    "\n",
    "            x_t_p, _, _ = model(x_s, x_t, y_t)\n",
    "            sample, _   = kumaMSD(x_t)\n",
    "            actual      = torch.sum(y_t, 0)\n",
    "            \n",
    "            x_t_p       = x_t_p[1:].view(-1, x_t_p.shape[-1])\n",
    "\n",
    "            outputs     = F.log_softmax(x_t_p, dim=1).type(torch.LongTensor)\n",
    "            outputs     = torch.squeeze(outputs, 1)\n",
    "\n",
    "            target_word = ''\n",
    "            for i in outputs:\n",
    "                p       = np.argmax(i, axis=0).detach().cpu().item()\n",
    "                entity  = idx_2_char[p]\n",
    "\n",
    "                if   entity == '<SOS>':\n",
    "                    continue\n",
    "                elif entity == '<PAD>' or entity == '<EOS>':\n",
    "                    break\n",
    "\n",
    "                target_word += idx_2_char[p]\n",
    "            \n",
    "        return target_word, sample_batched, sample, actual, vocab"
   ]
  },
  {
   "cell_type": "code",
   "execution_count": 4,
   "metadata": {},
   "outputs": [
    {
     "data": {
      "text/plain": [
       "IncompatibleKeys(missing_keys=[], unexpected_keys=[])"
      ]
     },
     "execution_count": 4,
     "metadata": {},
     "output_type": "execute_result"
    }
   ],
   "source": [
    "language = 'turkish'\n",
    "model_id = '21'\n",
    "\n",
    "device         = torch.device('cuda')\n",
    "checkpoint     = torch.load('../models/{}-{}/model.pt'.format(language, model_id), map_location=device)\n",
    "\n",
    "config         = checkpoint['config']\n",
    "vocab          = checkpoint['vocab']\n",
    "\n",
    "test_loader, d = initialize_dataloader(run_type='test', language=config['language'], task='sup',\n",
    "                                       vocab=vocab, batch_size=1, shuffle=True)\n",
    "idx_2_char     = d.idx_2_char\n",
    "\n",
    "model, kumaMSD = initialize_model(config)\n",
    "model.load_state_dict(checkpoint['model_state_dict'])\n",
    "kumaMSD.load_state_dict(checkpoint['kumaMSD_state_dict'])"
   ]
  },
  {
   "cell_type": "code",
   "execution_count": 13,
   "metadata": {},
   "outputs": [
    {
     "name": "stdout",
     "output_type": "stream",
     "text": [
      "Source          : ['aksanlar']\n",
      "MSD             : ['pos=N,case=NOM,num=SG']\n",
      "Target          : ['aksan']\n",
      "Predicted target: ['aksan']\n"
     ]
    },
    {
     "data": {
      "image/png": "[encoded data removed]",
      "text/plain": [
       "<Figure size 432x288 with 1 Axes>"
      ]
     },
     "metadata": {
      "needs_background": "light"
     },
     "output_type": "display_data"
    }
   ],
   "source": [
    "target_word, info, sample, actual, vocab = test_kuma(model, kumaMSD, test_loader)\n",
    "\n",
    "print('Source          : {}'.format(info['source_str']))\n",
    "print('MSD             : {}'.format(info['msd_str']))\n",
    "print('Target          : {}'.format(info['target_str']))\n",
    "print(\"Predicted target: ['{}']\".format(target_word))\n",
    "\n",
    "plot_function(sample, actual, vocab)"
   ]
  },
  {
   "cell_type": "code",
   "execution_count": 41,
   "metadata": {},
   "outputs": [
    {
     "name": "stdout",
     "output_type": "stream",
     "text": [
      "KumaMSD(\n",
      "  (encoder): WordEncoder(\n",
      "    (embedding): Embedding(39, 300, padding_idx=2)\n",
      "    (rnn): GRU(300, 256, bidirectional=True)\n",
      "    (fc_mu): Linear(in_features=512, out_features=150, bias=True)\n",
      "    (fc_sigma): Linear(in_features=512, out_features=150, bias=True)\n",
      "    (dropout): Dropout(p=0.0)\n",
      "  )\n",
      "  (fc): Linear(in_features=512, out_features=256, bias=True)\n",
      "  (ai): Linear(in_features=256, out_features=32, bias=True)\n",
      "  (bi): Linear(in_features=256, out_features=32, bias=True)\n",
      ")\n",
      "torch.Size([32, 256])\n"
     ]
    }
   ],
   "source": [
    "print(kumaMSD)\n",
    "\n",
    "print(kumaMSD.ai.weight.size())"
   ]
  },
  {
   "cell_type": "code",
   "execution_count": 44,
   "metadata": {},
   "outputs": [],
   "source": [
    "# print(kumaMSD.ai.weight[0])\n",
    "# print(kumaMSD.bi.weight)\n",
    "\n",
    "# a = 0.1 + torch.sigmoid(kumaMSD.ai)     * 0.8\n",
    "# b = 1   + torch.sigmoid(kumaMSD.bi - 5) * 5\n",
    "\n",
    "# for param in kumaMSD.parameters():\n",
    "#     print(param.size())"
   ]
  },
  {
   "cell_type": "code",
   "execution_count": 39,
   "metadata": {},
   "outputs": [
    {
     "name": "stdout",
     "output_type": "stream",
     "text": [
      "tensor(5.0254)\n"
     ]
    }
   ],
   "source": [
    "loss_sup_yt = nn.BCELoss(reduction='mean')\n",
    "\n",
    "a = torch.tensor([[0.0000, 0.1774, 0.6398, 0.6107, 1.0000, 0.4144, 0.4772, 0.6340, 0.0000,\n",
    "         1.0000, 0.0000, 0.1173, 0.0256, 0.0115, 1.0000, 0.7065, 0.6073, 0.0992,\n",
    "         0.0559, 0.9018, 0.0000, 0.9181, 0.7658, 0.9906, 0.7000, 0.8970, 0.7419,\n",
    "         0.0000, 0.7092, 1.0000, 0.1014, 1.0000],\n",
    "        [0.0000, 1.0000, 0.0000, 0.4946, 0.8719, 0.7733, 0.0645, 1.0000, 0.4008,\n",
    "         0.1611, 0.5172, 1.0000, 0.0000, 0.0000, 0.0131, 0.2254, 0.4259, 1.0000,\n",
    "         0.9937, 0.2112, 1.0000, 0.7008, 0.8460, 1.0000, 0.5059, 0.7482, 0.8534,\n",
    "         0.7763, 0.3843, 0.8723, 0.1525, 0.2357]])\n",
    "\n",
    "b = torch.tensor([[0., 1., 0., 0., 1., 0., 0., 1., 0., 0., 1., 0., 0., 0., 0., 0., 0., 0.,\n",
    "         0., 0., 0., 0., 0., 0., 0., 0., 0., 0., 0., 0., 0., 0.],\n",
    "        [0., 1., 0., 0., 1., 0., 0., 0., 0., 0., 0., 0., 0., 0., 0., 0., 0., 0.,\n",
    "         0., 0., 0., 0., 0., 0., 0., 1., 0., 0., 0., 0., 0., 0.]])\n",
    "\n",
    "print(loss_sup_yt(a, b))"
   ]
  },
  {
   "cell_type": "code",
   "execution_count": 40,
   "metadata": {},
   "outputs": [
    {
     "name": "stdout",
     "output_type": "stream",
     "text": [
      "tensor(5.0965)\n",
      "tensor(4.9543)\n",
      "tensor(10.0508)\n"
     ]
    }
   ],
   "source": [
    "a1 = torch.tensor([[0.0000, 0.1774, 0.6398, 0.6107, 1.0000, 0.4144, 0.4772, 0.6340, 0.0000,\n",
    "         1.0000, 0.0000, 0.1173, 0.0256, 0.0115, 1.0000, 0.7065, 0.6073, 0.0992,\n",
    "         0.0559, 0.9018, 0.0000, 0.9181, 0.7658, 0.9906, 0.7000, 0.8970, 0.7419,\n",
    "         0.0000, 0.7092, 1.0000, 0.1014, 1.0000]])\n",
    "\n",
    "b1 = torch.tensor([[0., 1., 0., 0., 1., 0., 0., 1., 0., 0., 1., 0., 0., 0., 0., 0., 0., 0.,\n",
    "         0., 0., 0., 0., 0., 0., 0., 0., 0., 0., 0., 0., 0., 0.]])\n",
    "\n",
    "print(loss_sup_yt(a1, b1))\n",
    "\n",
    "\n",
    "a2 = torch.tensor([[0.0000, 1.0000, 0.0000, 0.4946, 0.8719, 0.7733, 0.0645, 1.0000, 0.4008,\n",
    "         0.1611, 0.5172, 1.0000, 0.0000, 0.0000, 0.0131, 0.2254, 0.4259, 1.0000,\n",
    "         0.9937, 0.2112, 1.0000, 0.7008, 0.8460, 1.0000, 0.5059, 0.7482, 0.8534,\n",
    "         0.7763, 0.3843, 0.8723, 0.1525, 0.2357]])\n",
    "\n",
    "b2 = torch.tensor([[0., 1., 0., 0., 1., 0., 0., 0., 0., 0., 0., 0., 0., 0., 0., 0., 0., 0.,\n",
    "         0., 0., 0., 0., 0., 0., 0., 1., 0., 0., 0., 0., 0., 0.]])\n",
    "\n",
    "print(loss_sup_yt(a2, b2))\n",
    "\n",
    "print(loss_sup_yt(a1, b1) + loss_sup_yt(a2, b2))"
   ]
  },
  {
   "cell_type": "code",
   "execution_count": 25,
   "metadata": {},
   "outputs": [
    {
     "name": "stdout",
     "output_type": "stream",
     "text": [
      "tensor(188.9899)\n"
     ]
    }
   ],
   "source": []
  },
  {
   "cell_type": "code",
   "execution_count": null,
   "metadata": {},
   "outputs": [],
   "source": []
  }
 ],
 "metadata": {
  "kernelspec": {
   "display_name": "Python 3",
   "language": "python",
   "name": "python3"
  },
  "language_info": {
   "codemirror_mode": {
    "name": "ipython",
    "version": 3
   },
   "file_extension": ".py",
   "mimetype": "text/x-python",
   "name": "python",
   "nbconvert_exporter": "python",
   "pygments_lexer": "ipython3",
   "version": "3.7.3"
  }
 },
 "nbformat": 4,
 "nbformat_minor": 2
}
