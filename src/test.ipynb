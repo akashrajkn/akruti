{
 "cells": [
  {
   "cell_type": "code",
   "execution_count": 1,
   "metadata": {},
   "outputs": [],
   "source": [
    "import os\n",
    "import pickle\n",
    "import random\n",
    "import logging\n",
    "import argparse\n",
    "\n",
    "import matplotlib.pyplot as plt\n",
    "\n",
    "import torch\n",
    "import torch.nn as nn\n",
    "import torch.optim as optim\n",
    "import torch.nn.functional as F\n",
    "import numpy as np\n",
    "\n",
    "from torch.utils.data import DataLoader\n",
    "from torch.utils.tensorboard import SummaryWriter\n",
    "from timeit import default_timer as timer\n",
    "from datetime import timedelta\n",
    "\n",
    "from models import WordEncoder, Attention, TagEmbedding, WordDecoder, MSVED, KumaMSD\n",
    "from dataset import MorphologyDatasetTask3, Vocabulary\n",
    "\n",
    "from kumaraswamy import Kumaraswamy\n",
    "from hard_kumaraswamy import StretchedAndRectifiedDistribution as HardKumaraswamy\n",
    "\n",
    "from main import *"
   ]
  },
  {
   "cell_type": "code",
   "execution_count": 6,
   "metadata": {},
   "outputs": [],
   "source": [
    "def plot_function(sample, actual, vocab):\n",
    "    x_labels = list(vocab.idx_2_desc.values())\n",
    "\n",
    "    fig, ax = plt.subplots()\n",
    "    im = ax.imshow(torch.cat((sample, actual), 0).cpu())\n",
    "\n",
    "    ax.set_xticks(np.arange(len(x_labels)))\n",
    "    ax.set_yticks(np.arange(2))\n",
    "    ax.set_xticklabels(x_labels)\n",
    "    ax.set_yticklabels(['sample', 'actual'])\n",
    "\n",
    "    plt.setp(ax.get_xticklabels(), rotation=90, ha=\"right\",\n",
    "             rotation_mode=\"anchor\")\n",
    "    plt.show()\n"
   ]
  },
  {
   "cell_type": "code",
   "execution_count": 10,
   "metadata": {},
   "outputs": [],
   "source": [
    "def test_kuma(model, kumaMSD, test_loader):\n",
    "    '''\n",
    "    Test function\n",
    "    '''\n",
    "    model.eval()\n",
    "    kumaMSD.eval()\n",
    "    for i_batch, sample_batched in enumerate(test_loader):\n",
    "\n",
    "        with torch.no_grad():\n",
    "            x_s = sample_batched['source_form'].to(device)\n",
    "            x_t = sample_batched['target_form'].to(device)\n",
    "            y_t = sample_batched['msd'].to(device)\n",
    "\n",
    "            x_s = torch.transpose(x_s, 0, 1)\n",
    "            x_t = torch.transpose(x_t, 0, 1)\n",
    "            y_t = torch.transpose(y_t, 0, 1)\n",
    "\n",
    "            x_t_p, _, _ = model(x_s, x_t, y_t)\n",
    "            sample, _   = kumaMSD(x_t)\n",
    "            actual      = torch.sum(y_t, 0)\n",
    "            \n",
    "            x_t_p       = x_t_p[1:].view(-1, x_t_p.shape[-1])\n",
    "\n",
    "            outputs     = F.log_softmax(x_t_p, dim=1).type(torch.LongTensor)\n",
    "            outputs     = torch.squeeze(outputs, 1)\n",
    "\n",
    "            target_word = ''\n",
    "            for i in outputs:\n",
    "                p       = np.argmax(i, axis=0).detach().cpu().item()\n",
    "                entity  = idx_2_char[p]\n",
    "\n",
    "                if   entity == '<SOS>':\n",
    "                    continue\n",
    "                elif entity == '<PAD>' or entity == '<EOS>':\n",
    "                    break\n",
    "\n",
    "                target_word += idx_2_char[p]\n",
    "            \n",
    "        return target_word, sample_batched, sample, actual, vocab"
   ]
  },
  {
   "cell_type": "code",
   "execution_count": 12,
   "metadata": {},
   "outputs": [
    {
     "name": "stdout",
     "output_type": "stream",
     "text": [
      "hello\n"
     ]
    },
    {
     "data": {
      "text/plain": [
       "IncompatibleKeys(missing_keys=[], unexpected_keys=[])"
      ]
     },
     "execution_count": 12,
     "metadata": {},
     "output_type": "execute_result"
    }
   ],
   "source": [
    "language = 'turkish'\n",
    "model_id = '17'\n",
    "\n",
    "device         = torch.device('cuda')\n",
    "checkpoint     = torch.load('../models/{}-{}/model.pt'.format(language, model_id), map_location=device)\n",
    "\n",
    "config         = checkpoint['config']\n",
    "vocab          = checkpoint['vocab']\n",
    "\n",
    "test_loader, d = initialize_dataloader(run_type='test', language=config['language'], task='sup',\n",
    "                                       vocab=vocab, batch_size=1, shuffle=True)\n",
    "idx_2_char     = d.idx_2_char\n",
    "\n",
    "model, kumaMSD = initialize_model(config)\n",
    "model.load_state_dict(checkpoint['model_state_dict'])\n",
    "kumaMSD.load_state_dict(checkpoint['kumaMSD_state_dict'])"
   ]
  },
  {
   "cell_type": "code",
   "execution_count": 23,
   "metadata": {},
   "outputs": [
    {
     "name": "stdout",
     "output_type": "stream",
     "text": [
      "Source          : ['kıblesi']\n",
      "MSD             : ['pos=N,poss=PSS1S,case=ACC,num=SG']\n",
      "Target          : ['kıblemi']\n",
      "Predicted target: ['kıblemi']\n"
     ]
    },
    {
     "data": {
      "image/png": "[encoded data removed]",
      "text/plain": [
       "<Figure size 432x288 with 1 Axes>"
      ]
     },
     "metadata": {
      "needs_background": "light"
     },
     "output_type": "display_data"
    }
   ],
   "source": [
    "target_word, info, sample, actual, vocab = test_kuma(model, kumaMSD, test_loader)\n",
    "\n",
    "print('Source          : {}'.format(info['source_str']))\n",
    "print('MSD             : {}'.format(info['msd_str']))\n",
    "print('Target          : {}'.format(info['target_str']))\n",
    "print(\"Predicted target: ['{}']\".format(target_word))\n",
    "\n",
    "plot_function(sample, actual, vocab)"
   ]
  },
  {
   "cell_type": "code",
   "execution_count": 36,
   "metadata": {},
   "outputs": [
    {
     "name": "stdout",
     "output_type": "stream",
     "text": [
      "KumaMSD(\n",
      "  (encoder): WordEncoder(\n",
      "    (embedding): Embedding(39, 300, padding_idx=2)\n",
      "    (rnn): GRU(300, 256, bidirectional=True)\n",
      "    (fc_mu): Linear(in_features=512, out_features=150, bias=True)\n",
      "    (fc_sigma): Linear(in_features=512, out_features=150, bias=True)\n",
      "    (dropout): Dropout(p=0.0)\n",
      "  )\n",
      "  (fc): Linear(in_features=512, out_features=256, bias=True)\n",
      "  (ai): Linear(in_features=256, out_features=32, bias=True)\n",
      "  (bi): Linear(in_features=256, out_features=32, bias=True)\n",
      ")\n",
      "torch.Size([32, 256])\n"
     ]
    }
   ],
   "source": [
    "print(kumaMSD)\n",
    "\n",
    "print(kumaMSD.ai.weight.size())"
   ]
  },
  {
   "cell_type": "code",
   "execution_count": 38,
   "metadata": {},
   "outputs": [
    {
     "name": "stdout",
     "output_type": "stream",
     "text": [
      "tensor([-0.0563,  0.0150,  0.0066, -0.0435, -0.0751, -0.0397,  0.0530,  0.0209,\n",
      "         0.0152,  0.0619,  0.0186, -0.0383,  0.0393, -0.0211,  0.0879,  0.0261,\n",
      "         0.0294,  0.0384,  0.0128, -0.0092,  0.0559,  0.0228, -0.0505, -0.0353,\n",
      "        -0.0351,  0.0237, -0.0197,  0.0239,  0.0557,  0.0377, -0.0372, -0.0057,\n",
      "        -0.0267,  0.0611,  0.0055,  0.0301, -0.0628,  0.0085,  0.0703,  0.0382,\n",
      "         0.0026, -0.0025, -0.0387, -0.0266,  0.0458, -0.0020,  0.0566,  0.0290,\n",
      "         0.0541,  0.0596, -0.0164,  0.0447,  0.0120,  0.0170,  0.0130,  0.0716,\n",
      "         0.0092,  0.0548, -0.0230,  0.0232,  0.0011, -0.0997,  0.0789, -0.0230,\n",
      "        -0.0490, -0.0154, -0.0058,  0.0313,  0.0586,  0.0611, -0.0186, -0.0236,\n",
      "        -0.0626,  0.0135, -0.0385, -0.0970, -0.0534, -0.0179, -0.0210, -0.0240,\n",
      "         0.0317,  0.0515, -0.0309,  0.0298, -0.0008,  0.0034,  0.0845,  0.0720,\n",
      "         0.0155,  0.0348,  0.0354,  0.0498,  0.0761,  0.0165,  0.0369, -0.0537,\n",
      "        -0.0066,  0.0122,  0.0216,  0.0027,  0.0453,  0.0021,  0.0240,  0.0273,\n",
      "        -0.0636,  0.0126,  0.0322, -0.0346,  0.0232, -0.0066, -0.0031,  0.0140,\n",
      "        -0.0391,  0.0348, -0.0184,  0.0109, -0.0342,  0.0394, -0.0955,  0.0197,\n",
      "         0.0470,  0.0351,  0.0368,  0.0380, -0.0229,  0.0242,  0.0076,  0.0455,\n",
      "         0.0055,  0.0081,  0.0287,  0.0321,  0.0720,  0.0044,  0.0175,  0.0522,\n",
      "         0.1111,  0.0055,  0.0377,  0.0644,  0.0211, -0.0401, -0.0393, -0.0453,\n",
      "        -0.0044,  0.0100,  0.0618, -0.0399, -0.0283, -0.0208,  0.0071, -0.0199,\n",
      "         0.0416,  0.0302,  0.0636,  0.0174, -0.0301,  0.0049,  0.0392,  0.0132,\n",
      "        -0.0135, -0.0046, -0.0162,  0.0253,  0.0446, -0.0227,  0.0508, -0.0109,\n",
      "         0.0783, -0.0443,  0.0317,  0.0240,  0.0287,  0.0066, -0.0019,  0.0373,\n",
      "         0.0689,  0.0053,  0.0158,  0.0646, -0.0037,  0.0798,  0.0595,  0.0344,\n",
      "         0.0486, -0.0536,  0.0701,  0.0217, -0.0039, -0.0449,  0.0327, -0.0528,\n",
      "         0.0326, -0.0293, -0.0192, -0.0459, -0.0070,  0.0757, -0.0098, -0.0598,\n",
      "         0.0205,  0.0232,  0.0182, -0.0040, -0.1540,  0.0423, -0.0469, -0.0228,\n",
      "        -0.0242,  0.0624, -0.2194,  0.0670,  0.0288, -0.0237,  0.0072,  0.0129,\n",
      "         0.0362,  0.0570,  0.0740,  0.0863,  0.0417, -0.0100,  0.0346, -0.0055,\n",
      "         0.0016,  0.0214, -0.2102,  0.0646,  0.0729, -0.0587,  0.0060,  0.0132,\n",
      "         0.0075,  0.0153,  0.0460, -0.0511, -0.0372,  0.0387, -0.0388,  0.0300,\n",
      "         0.0054, -0.1266, -0.0369, -0.0029, -0.0298,  0.0314, -0.0579,  0.0082,\n",
      "        -0.0582,  0.0387,  0.0213,  0.0075,  0.0278,  0.0192, -0.0099, -0.0891],\n",
      "       device='cuda:0', grad_fn=<SelectBackward>)\n",
      "Parameter containing:\n",
      "tensor([[-2.4896e-02, -2.4646e-02,  8.5547e-03,  ..., -4.1385e-02,\n",
      "         -3.2863e-03,  4.8362e-02],\n",
      "        [ 5.4731e-02, -6.0147e-02, -2.3525e-02,  ..., -1.5259e-02,\n",
      "         -3.9688e-02, -1.9053e-02],\n",
      "        [ 2.7269e-02, -3.8391e-02,  1.3447e-02,  ...,  1.1274e-02,\n",
      "         -5.8020e-05, -2.8408e-02],\n",
      "        ...,\n",
      "        [ 3.2678e-02,  1.7961e-02,  2.2724e-02,  ...,  4.2913e-02,\n",
      "         -4.5522e-02, -8.6670e-03],\n",
      "        [-5.4226e-02, -1.1685e-02, -2.5693e-02,  ..., -2.7956e-02,\n",
      "          1.3961e-02,  3.8261e-02],\n",
      "        [ 5.0654e-02, -2.3310e-02, -2.2770e-02,  ..., -3.4683e-02,\n",
      "          4.2208e-02, -8.9439e-03]], device='cuda:0', requires_grad=True)\n"
     ]
    }
   ],
   "source": [
    "print(kumaMSD.ai.weight[0])\n",
    "print(kumaMSD.bi.weight)\n",
    "\n",
    "# for param in kumaMSD.parameters():\n",
    "#     print(param.size())"
   ]
  },
  {
   "cell_type": "code",
   "execution_count": null,
   "metadata": {},
   "outputs": [],
   "source": []
  },
  {
   "cell_type": "code",
   "execution_count": null,
   "metadata": {},
   "outputs": [],
   "source": []
  },
  {
   "cell_type": "code",
   "execution_count": null,
   "metadata": {},
   "outputs": [],
   "source": []
  }
 ],
 "metadata": {
  "kernelspec": {
   "display_name": "Python 3",
   "language": "python",
   "name": "python3"
  },
  "language_info": {
   "codemirror_mode": {
    "name": "ipython",
    "version": 3
   },
   "file_extension": ".py",
   "mimetype": "text/x-python",
   "name": "python",
   "nbconvert_exporter": "python",
   "pygments_lexer": "ipython3",
   "version": "3.7.3"
  }
 },
 "nbformat": 4,
 "nbformat_minor": 2
}
