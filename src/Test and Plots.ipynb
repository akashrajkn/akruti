{
 "cells": [
  {
   "cell_type": "code",
   "execution_count": 1,
   "metadata": {},
   "outputs": [],
   "source": [
    "import os\n",
    "import pickle\n",
    "import random\n",
    "import logging\n",
    "import argparse\n",
    "import pandas as pd\n",
    "\n",
    "import matplotlib.pyplot as plt\n",
    "\n",
    "import torch\n",
    "import torch.nn as nn\n",
    "import torch.optim as optim\n",
    "import torch.nn.functional as F\n",
    "import numpy as np\n",
    "\n",
    "from torch.utils.data import DataLoader\n",
    "from torch.utils.tensorboard import SummaryWriter\n",
    "from timeit import default_timer as timer\n",
    "from datetime import timedelta\n",
    "\n",
    "from models import WordEncoder, Attention, TagEmbedding, WordDecoder, MSVED, KumaMSD\n",
    "from dataset import MorphologyDatasetTask3, Vocabulary\n",
    "\n",
    "from kumaraswamy import Kumaraswamy\n",
    "from hard_kumaraswamy import StretchedAndRectifiedDistribution as HardKumaraswamy\n",
    "\n",
    "from main import *"
   ]
  },
  {
   "cell_type": "code",
   "execution_count": 2,
   "metadata": {},
   "outputs": [],
   "source": [
    "def plot_kuma_samples(sample, actual, vocab):\n",
    "    x_labels = list(vocab.idx_2_desc.values())\n",
    "\n",
    "    fig, ax = plt.subplots()\n",
    "    im = ax.imshow(torch.cat((sample, actual), 0).cpu())\n",
    "\n",
    "    ax.set_xticks(np.arange(len(x_labels)))\n",
    "    ax.set_yticks(np.arange(2))\n",
    "    ax.set_xticklabels(x_labels)\n",
    "    ax.set_yticklabels(['sample', 'actual'])\n",
    "\n",
    "    plt.setp(ax.get_xticklabels(), rotation=90, ha=\"right\",\n",
    "             rotation_mode=\"anchor\")\n",
    "    plt.show()"
   ]
  },
  {
   "cell_type": "code",
   "execution_count": 65,
   "metadata": {},
   "outputs": [],
   "source": [
    "def plot_losses(language, model_id, num_points=200):\n",
    "\n",
    "    epoch_details = pd.read_csv('../models/{}-{}/epoch_details.csv'.format(language, model_id))\n",
    "    \n",
    "    plt.figure()\n",
    "    plt.plot(epoch_details[' ce_loss_sup'], label='ce_loss_sup')\n",
    "    plt.plot(epoch_details[' kl_sup'], label='kl_sup')\n",
    "    plt.plot(epoch_details[' clamp_kl_sup'], label='clamp_kl_sup')\n",
    "    plt.plot(epoch_details[' kuma_loss_sup'], label='kuma_loss_sup')\n",
    "    plt.plot(epoch_details[' yt_loss_sup'], label='yt_loss_sup')\n",
    "    plt.legend()\n",
    "    plt.ylim((-0.1, 4))\n",
    "    plt.title('Sup Loss terms')\n",
    "    plt.show()\n",
    "    \n",
    "    plt.figure()\n",
    "    plt.plot(epoch_details[' ce_loss_unsup'], label='ce_loss_unsup')\n",
    "    plt.plot(epoch_details[' kl_unsup'], label='kl_unsup')\n",
    "    plt.plot(epoch_details[' clamp_kl_unsup'], label='clamp_kl_unsup')\n",
    "    plt.plot(epoch_details[' kl_kuma_unsup'], label='kl_kuma_unsup')\n",
    "    plt.ylim((-0.1, 5))\n",
    "    plt.legend()\n",
    "    plt.title('Unsup Loss terms')\n",
    "    plt.show()\n",
    "\n",
    "    plt.figure()\n",
    "    plt.plot(epoch_details[' loss_sup'], label='loss_sup')\n",
    "    plt.plot(epoch_details[' loss_unsup'], label='loss_unsup')\n",
    "    plt.plot(epoch_details[' total_loss'], label='total_loss')\n",
    "    plt.ylim((-0.1, 10))\n",
    "    plt.legend()\n",
    "    plt.title('Loss terms')\n",
    "    plt.show()"
   ]
  },
  {
   "cell_type": "code",
   "execution_count": 36,
   "metadata": {},
   "outputs": [
    {
     "data": {
      "text/plain": [
       "array(['epoch', ' ce_loss_sup', ' kl_sup', ' clamp_kl_sup',\n",
       "       ' kuma_loss_sup', ' yt_loss_sup', ' ce_loss_unsup', ' kl_unsup',\n",
       "       ' clamp_kl_unsup', ' kl_kuma_unsup', ' clamp_kl_kuma_unsup',\n",
       "       ' loss_sup', ' loss_unsup', ' total_loss'], dtype=object)"
      ]
     },
     "execution_count": 36,
     "metadata": {},
     "output_type": "execute_result"
    }
   ],
   "source": [
    "epoch_details.columns.values"
   ]
  },
  {
   "cell_type": "code",
   "execution_count": 37,
   "metadata": {},
   "outputs": [],
   "source": [
    "# epoch_details[[' total_loss']]"
   ]
  },
  {
   "cell_type": "code",
   "execution_count": 38,
   "metadata": {},
   "outputs": [],
   "source": [
    "def test_kuma(model, kumaMSD, test_loader):\n",
    "    '''\n",
    "    Test function\n",
    "    '''\n",
    "    model.eval()\n",
    "    kumaMSD.eval()\n",
    "    for i_batch, sample_batched in enumerate(test_loader):\n",
    "\n",
    "        with torch.no_grad():\n",
    "            x_s = sample_batched['source_form'].to(device)\n",
    "            x_t = sample_batched['target_form'].to(device)\n",
    "            y_t = sample_batched['msd'].to(device)\n",
    "\n",
    "            x_s = torch.transpose(x_s, 0, 1)\n",
    "            x_t = torch.transpose(x_t, 0, 1)\n",
    "            y_t = torch.transpose(y_t, 0, 1)\n",
    "\n",
    "            x_t_p, _, _ = model(x_s, x_t, y_t)\n",
    "            sample, _   = kumaMSD(x_t)\n",
    "            actual      = torch.sum(y_t, 0)\n",
    "            \n",
    "            x_t_p       = x_t_p[1:].view(-1, x_t_p.shape[-1])\n",
    "\n",
    "            outputs     = F.log_softmax(x_t_p, dim=1).type(torch.LongTensor)\n",
    "            outputs     = torch.squeeze(outputs, 1)\n",
    "\n",
    "            target_word = ''\n",
    "            for i in outputs:\n",
    "                p       = np.argmax(i, axis=0).detach().cpu().item()\n",
    "                entity  = idx_2_char[p]\n",
    "\n",
    "                if   entity == '<SOS>':\n",
    "                    continue\n",
    "                elif entity == '<PAD>' or entity == '<EOS>':\n",
    "                    break\n",
    "\n",
    "                target_word += idx_2_char[p]\n",
    "            \n",
    "        return target_word, sample_batched, sample, actual, vocab"
   ]
  },
  {
   "cell_type": "code",
   "execution_count": 83,
   "metadata": {},
   "outputs": [],
   "source": [
    "language = 'turkish'\n",
    "model_id = '37'"
   ]
  },
  {
   "cell_type": "code",
   "execution_count": 84,
   "metadata": {},
   "outputs": [
    {
     "data": {
      "text/plain": [
       "IncompatibleKeys(missing_keys=[], unexpected_keys=[])"
      ]
     },
     "execution_count": 84,
     "metadata": {},
     "output_type": "execute_result"
    }
   ],
   "source": [
    "device         = torch.device('cpu')\n",
    "checkpoint     = torch.load('../models/{}-{}/model.pt'.format(language, model_id), map_location=device)\n",
    "\n",
    "config         = checkpoint['config']\n",
    "vocab          = checkpoint['vocab']\n",
    "\n",
    "test_loader, d = initialize_dataloader(run_type='test', language=config['language'], task='sup',\n",
    "                                       vocab=vocab, batch_size=1, shuffle=True)\n",
    "idx_2_char     = d.idx_2_char\n",
    "\n",
    "model, kumaMSD = initialize_model(config)\n",
    "model.load_state_dict(checkpoint['model_state_dict'])\n",
    "kumaMSD.load_state_dict(checkpoint['kumaMSD_state_dict'])"
   ]
  },
  {
   "cell_type": "code",
   "execution_count": 85,
   "metadata": {},
   "outputs": [
    {
     "data": {
      "image/png": "[encoded data removed]",
      "text/plain": [
       "<Figure size 432x288 with 1 Axes>"
      ]
     },
     "metadata": {
      "needs_background": "light"
     },
     "output_type": "display_data"
    },
    {
     "data": {
      "image/png": "[encoded data removed]",
      "text/plain": [
       "<Figure size 432x288 with 1 Axes>"
      ]
     },
     "metadata": {
      "needs_background": "light"
     },
     "output_type": "display_data"
    },
    {
     "data": {
      "image/png": "[encoded data removed]",
      "text/plain": [
       "<Figure size 432x288 with 1 Axes>"
      ]
     },
     "metadata": {
      "needs_background": "light"
     },
     "output_type": "display_data"
    }
   ],
   "source": [
    "plot_losses(language=language, model_id=model_id)"
   ]
  },
  {
   "cell_type": "code",
   "execution_count": 97,
   "metadata": {},
   "outputs": [
    {
     "name": "stdout",
     "output_type": "stream",
     "text": [
      "Source          : ['sayfanızı']\n",
      "MSD             : ['pos=N,tense=PRS,per=2,num=SG,aspect={IPFV/PFV}']\n",
      "Target          : ['sayfasınız']\n",
      "Predicted target: ['sayfalın']\n"
     ]
    },
    {
     "data": {
      "image/png": "[encoded data removed]",
      "text/plain": [
       "<Figure size 432x288 with 1 Axes>"
      ]
     },
     "metadata": {
      "needs_background": "light"
     },
     "output_type": "display_data"
    }
   ],
   "source": [
    "target_word, info, sample, actual, vocab = test_kuma(model, kumaMSD, test_loader)\n",
    "\n",
    "print('Source          : {}'.format(info['source_str']))\n",
    "print('MSD             : {}'.format(info['msd_str']))\n",
    "print('Target          : {}'.format(info['target_str']))\n",
    "print(\"Predicted target: ['{}']\".format(target_word))\n",
    "\n",
    "plot_kuma_samples(sample, actual, vocab)"
   ]
  },
  {
   "cell_type": "code",
   "execution_count": 20,
   "metadata": {},
   "outputs": [
    {
     "name": "stdout",
     "output_type": "stream",
     "text": [
      "KumaMSD(\n",
      "  (encoder): WordEncoder(\n",
      "    (embedding): Embedding(39, 300, padding_idx=2)\n",
      "    (rnn): GRU(300, 256, bidirectional=True)\n",
      "    (fc_mu): Linear(in_features=512, out_features=150, bias=True)\n",
      "    (fc_sigma): Linear(in_features=512, out_features=150, bias=True)\n",
      "    (dropout): Dropout(p=0.0)\n",
      "  )\n",
      "  (fc): Linear(in_features=512, out_features=256, bias=True)\n",
      "  (ai): Linear(in_features=256, out_features=32, bias=True)\n",
      "  (bi): Linear(in_features=256, out_features=32, bias=True)\n",
      ")\n",
      "torch.Size([32, 256])\n"
     ]
    }
   ],
   "source": [
    "print(kumaMSD)\n",
    "print(kumaMSD.ai.weight.size())"
   ]
  },
  {
   "cell_type": "code",
   "execution_count": 44,
   "metadata": {},
   "outputs": [],
   "source": [
    "# print(kumaMSD.ai.weight[0])\n",
    "# print(kumaMSD.bi.weight)\n",
    "\n",
    "# a = 0.1 + torch.sigmoid(kumaMSD.ai)     * 0.8\n",
    "# b = 1   + torch.sigmoid(kumaMSD.bi - 5) * 5\n",
    "\n",
    "# for param in kumaMSD.parameters():\n",
    "#     print(param.size())"
   ]
  },
  {
   "cell_type": "code",
   "execution_count": 39,
   "metadata": {},
   "outputs": [
    {
     "name": "stdout",
     "output_type": "stream",
     "text": [
      "tensor(5.0254)\n"
     ]
    }
   ],
   "source": [
    "loss_sup_yt = nn.BCELoss(reduction='mean')\n",
    "\n",
    "a = torch.tensor([[0.0000, 0.1774, 0.6398, 0.6107, 1.0000, 0.4144, 0.4772, 0.6340, 0.0000,\n",
    "         1.0000, 0.0000, 0.1173, 0.0256, 0.0115, 1.0000, 0.7065, 0.6073, 0.0992,\n",
    "         0.0559, 0.9018, 0.0000, 0.9181, 0.7658, 0.9906, 0.7000, 0.8970, 0.7419,\n",
    "         0.0000, 0.7092, 1.0000, 0.1014, 1.0000],\n",
    "        [0.0000, 1.0000, 0.0000, 0.4946, 0.8719, 0.7733, 0.0645, 1.0000, 0.4008,\n",
    "         0.1611, 0.5172, 1.0000, 0.0000, 0.0000, 0.0131, 0.2254, 0.4259, 1.0000,\n",
    "         0.9937, 0.2112, 1.0000, 0.7008, 0.8460, 1.0000, 0.5059, 0.7482, 0.8534,\n",
    "         0.7763, 0.3843, 0.8723, 0.1525, 0.2357]])\n",
    "\n",
    "b = torch.tensor([[0., 1., 0., 0., 1., 0., 0., 1., 0., 0., 1., 0., 0., 0., 0., 0., 0., 0.,\n",
    "         0., 0., 0., 0., 0., 0., 0., 0., 0., 0., 0., 0., 0., 0.],\n",
    "        [0., 1., 0., 0., 1., 0., 0., 0., 0., 0., 0., 0., 0., 0., 0., 0., 0., 0.,\n",
    "         0., 0., 0., 0., 0., 0., 0., 1., 0., 0., 0., 0., 0., 0.]])\n",
    "\n",
    "print(loss_sup_yt(a, b))"
   ]
  },
  {
   "cell_type": "code",
   "execution_count": 40,
   "metadata": {},
   "outputs": [
    {
     "name": "stdout",
     "output_type": "stream",
     "text": [
      "tensor(5.0965)\n",
      "tensor(4.9543)\n",
      "tensor(10.0508)\n"
     ]
    }
   ],
   "source": [
    "a1 = torch.tensor([[0.0000, 0.1774, 0.6398, 0.6107, 1.0000, 0.4144, 0.4772, 0.6340, 0.0000,\n",
    "         1.0000, 0.0000, 0.1173, 0.0256, 0.0115, 1.0000, 0.7065, 0.6073, 0.0992,\n",
    "         0.0559, 0.9018, 0.0000, 0.9181, 0.7658, 0.9906, 0.7000, 0.8970, 0.7419,\n",
    "         0.0000, 0.7092, 1.0000, 0.1014, 1.0000]])\n",
    "\n",
    "b1 = torch.tensor([[0., 1., 0., 0., 1., 0., 0., 1., 0., 0., 1., 0., 0., 0., 0., 0., 0., 0.,\n",
    "         0., 0., 0., 0., 0., 0., 0., 0., 0., 0., 0., 0., 0., 0.]])\n",
    "\n",
    "print(loss_sup_yt(a1, b1))\n",
    "\n",
    "\n",
    "a2 = torch.tensor([[0.0000, 1.0000, 0.0000, 0.4946, 0.8719, 0.7733, 0.0645, 1.0000, 0.4008,\n",
    "         0.1611, 0.5172, 1.0000, 0.0000, 0.0000, 0.0131, 0.2254, 0.4259, 1.0000,\n",
    "         0.9937, 0.2112, 1.0000, 0.7008, 0.8460, 1.0000, 0.5059, 0.7482, 0.8534,\n",
    "         0.7763, 0.3843, 0.8723, 0.1525, 0.2357]])\n",
    "\n",
    "b2 = torch.tensor([[0., 1., 0., 0., 1., 0., 0., 0., 0., 0., 0., 0., 0., 0., 0., 0., 0., 0.,\n",
    "         0., 0., 0., 0., 0., 0., 0., 1., 0., 0., 0., 0., 0., 0.]])\n",
    "\n",
    "print(loss_sup_yt(a2, b2))\n",
    "\n",
    "print(loss_sup_yt(a1, b1) + loss_sup_yt(a2, b2))"
   ]
  },
  {
   "cell_type": "code",
   "execution_count": 25,
   "metadata": {},
   "outputs": [
    {
     "name": "stdout",
     "output_type": "stream",
     "text": [
      "tensor(188.9899)\n"
     ]
    }
   ],
   "source": []
  },
  {
   "cell_type": "code",
   "execution_count": 32,
   "metadata": {},
   "outputs": [],
   "source": [
    "with open('../models/turkish-31/epoch_details.csv', 'r') as f:\n",
    "    source = f.read()\n",
    "    \n",
    "out        = []\n",
    "sentences  = source.strip().split('\\n')\n",
    "num        = 0\n",
    "\n",
    "for sentence in sentences:\n",
    "    if num % 100 == 0:\n",
    "        out.append(sentence)\n",
    "    num += 1\n",
    "        \n",
    "with open('./epoch_details.csv', 'w+') as f:\n",
    "    f.write('\\n'.join(out))"
   ]
  },
  {
   "cell_type": "markdown",
   "metadata": {},
   "source": [
    "### Kuma MSD"
   ]
  },
  {
   "cell_type": "code",
   "execution_count": 98,
   "metadata": {},
   "outputs": [
    {
     "data": {
      "text/plain": [
       "IncompatibleKeys(missing_keys=[], unexpected_keys=[])"
      ]
     },
     "execution_count": 98,
     "metadata": {},
     "output_type": "execute_result"
    }
   ],
   "source": [
    "from kuma_msd_main import initialize_model\n",
    "\n",
    "language = 'turkish'\n",
    "model_id = '3'\n",
    "\n",
    "device         = torch.device('cpu')\n",
    "checkpoint     = torch.load('../models/kumamsd_{}-{}/model.pt'.format(language, model_id), map_location=device)\n",
    "\n",
    "config         = checkpoint['config']\n",
    "vocab          = checkpoint['vocab']\n",
    "\n",
    "test_loader, d = initialize_dataloader(run_type='test', language=config['language'], task='sup',\n",
    "                                       vocab=vocab, batch_size=1, shuffle=True)\n",
    "idx_2_char     = d.idx_2_char\n",
    "\n",
    "kumaMSD = initialize_model(config)\n",
    "kumaMSD.load_state_dict(checkpoint['model_state_dict'])\n",
    "\n"
   ]
  },
  {
   "cell_type": "code",
   "execution_count": 99,
   "metadata": {},
   "outputs": [],
   "source": [
    "def test_kumaMSD(kumaMSD, test_loader):\n",
    "    '''\n",
    "    Test function\n",
    "    '''\n",
    "    kumaMSD.eval()\n",
    "    for i_batch, sample_batched in enumerate(test_loader):\n",
    "\n",
    "        with torch.no_grad():\n",
    "            x_s = sample_batched['source_form'].to(device)\n",
    "            x_t = sample_batched['target_form'].to(device)\n",
    "            y_t = sample_batched['msd'].to(device)\n",
    "\n",
    "            x_s = torch.transpose(x_s, 0, 1)\n",
    "            x_t = torch.transpose(x_t, 0, 1)\n",
    "            y_t = torch.transpose(y_t, 0, 1)\n",
    "\n",
    "            sample, _   = kumaMSD(x_t)\n",
    "            actual      = torch.sum(y_t, 0)\n",
    "            \n",
    "        return sample_batched, sample, actual"
   ]
  },
  {
   "cell_type": "code",
   "execution_count": 108,
   "metadata": {},
   "outputs": [
    {
     "data": {
      "image/png": "[encoded data removed]",
      "text/plain": [
       "<Figure size 432x288 with 1 Axes>"
      ]
     },
     "metadata": {
      "needs_background": "light"
     },
     "output_type": "display_data"
    }
   ],
   "source": [
    "sample_batched, sample, actual = test_kumaMSD(kumaMSD, test_loader)\n",
    "\n",
    "plot_kuma_samples(sample, actual, vocab)"
   ]
  },
  {
   "cell_type": "code",
   "execution_count": 109,
   "metadata": {},
   "outputs": [],
   "source": [
    "epoch_details = pd.read_csv('../models/kumamsd_{}-{}/epoch_details.csv'.format(language, model_id))"
   ]
  },
  {
   "cell_type": "code",
   "execution_count": 125,
   "metadata": {},
   "outputs": [
    {
     "name": "stdout",
     "output_type": "stream",
     "text": [
      "     epoch        loss\n",
      "440      0  327.346224\n",
      "441      0  328.041862\n",
      "442      0  328.703037\n",
      "443      0  329.259471\n",
      "444      0  329.947095\n",
      "445      0  330.605825\n",
      "446      0  331.232030\n",
      "447      0  331.882742\n",
      "448      0  332.535350\n",
      "449      1    0.580483\n",
      "450      1    1.216598\n",
      "451      1    1.797013\n",
      "452      1    2.438554\n",
      "453      1    3.083981\n",
      "454      1    3.726471\n",
      "455      1    4.286904\n",
      "456      1    4.889279\n",
      "457      1    5.495320\n",
      "458      1    6.206580\n",
      "459      1    6.850560\n",
      "460      1    7.521916\n",
      "461      1    8.220981\n",
      "462      1    8.875965\n",
      "463      1    9.552314\n",
      "464      1   10.153523\n",
      "465      1   10.761222\n",
      "466      1   11.422005\n",
      "467      1   12.081794\n",
      "468      1   12.703432\n",
      "469      1   13.387887\n",
      "470      1   14.038538\n",
      "471      1   14.707536\n",
      "472      1   15.345614\n",
      "473      1   15.950177\n",
      "474      1   16.595421\n",
      "475      1   17.248916\n",
      "476      1   17.902325\n",
      "477      1   18.549071\n",
      "478      1   19.140614\n",
      "479      1   19.740919\n"
     ]
    }
   ],
   "source": [
    "epoch_details.columns.values\n",
    "\n",
    "print(epoch_details[440:480])"
   ]
  },
  {
   "cell_type": "code",
   "execution_count": 129,
   "metadata": {},
   "outputs": [
    {
     "data": {
      "text/plain": [
       "[<matplotlib.lines.Line2D at 0x7f67fcaaa5f8>]"
      ]
     },
     "execution_count": 129,
     "metadata": {},
     "output_type": "execute_result"
    },
    {
     "data": {
      "image/png": "[encoded data removed]",
      "text/plain": [
       "<Figure size 432x288 with 1 Axes>"
      ]
     },
     "metadata": {
      "needs_background": "light"
     },
     "output_type": "display_data"
    }
   ],
   "source": [
    "plt.plot(epoch_details[' loss'][:4000])"
   ]
  },
  {
   "cell_type": "code",
   "execution_count": null,
   "metadata": {},
   "outputs": [],
   "source": [
    "def plot_losses(language, model_id, num_points=200):\n",
    "\n",
    "    epoch_details = pd.read_csv('../models/kumamsd_{}-{}/epoch_details.csv'.format(language, model_id))\n",
    "    \n",
    "    plt.figure()\n",
    "    plt.plot(epoch_details[' ce_loss_sup'], label='ce_loss_sup')\n",
    "    plt.plot(epoch_details[' kl_sup'], label='kl_sup')\n",
    "    plt.plot(epoch_details[' clamp_kl_sup'], label='clamp_kl_sup')\n",
    "    plt.plot(epoch_details[' kuma_loss_sup'], label='kuma_loss_sup')\n",
    "    plt.plot(epoch_details[' yt_loss_sup'], label='yt_loss_sup')\n",
    "    plt.legend()\n",
    "    plt.ylim((-0.1, 4))\n",
    "    plt.title('Sup Loss terms')\n",
    "    plt.show()\n",
    "    \n",
    "    plt.figure()\n",
    "    plt.plot(epoch_details[' ce_loss_unsup'], label='ce_loss_unsup')\n",
    "    plt.plot(epoch_details[' kl_unsup'], label='kl_unsup')\n",
    "    plt.plot(epoch_details[' clamp_kl_unsup'], label='clamp_kl_unsup')\n",
    "    plt.plot(epoch_details[' kl_kuma_unsup'], label='kl_kuma_unsup')\n",
    "    plt.ylim((-0.1, 5))\n",
    "    plt.legend()\n",
    "    plt.title('Unsup Loss terms')\n",
    "    plt.show()\n",
    "\n",
    "    plt.figure()\n",
    "    plt.plot(epoch_details[' loss_sup'], label='loss_sup')\n",
    "    plt.plot(epoch_details[' loss_unsup'], label='loss_unsup')\n",
    "    plt.plot(epoch_details[' total_loss'], label='total_loss')\n",
    "    plt.ylim((-0.1, 10))\n",
    "    plt.legend()\n",
    "    plt.title('Loss terms')\n",
    "    plt.show()"
   ]
  }
 ],
 "metadata": {
  "kernelspec": {
   "display_name": "Python 3",
   "language": "python",
   "name": "python3"
  },
  "language_info": {
   "codemirror_mode": {
    "name": "ipython",
    "version": 3
   },
   "file_extension": ".py",
   "mimetype": "text/x-python",
   "name": "python",
   "nbconvert_exporter": "python",
   "pygments_lexer": "ipython3",
   "version": "3.7.2"
  }
 },
 "nbformat": 4,
 "nbformat_minor": 2
}
